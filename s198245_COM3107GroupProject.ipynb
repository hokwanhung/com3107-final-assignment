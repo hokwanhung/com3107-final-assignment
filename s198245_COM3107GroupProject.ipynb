{
  "cells": [
    {
      "cell_type": "markdown",
      "metadata": {
        "id": "oHKkXYOLY24f"
      },
      "source": [
        "# Connect to Drive"
      ]
    },
    {
      "cell_type": "code",
      "execution_count": null,
      "metadata": {
        "colab": {
          "base_uri": "https://localhost:8080/"
        },
        "id": "LuPDLBd_Y8Dr",
        "outputId": "4ccdbdb8-5331-43e9-e23d-705236eab302"
      },
      "outputs": [
        {
          "output_type": "stream",
          "name": "stdout",
          "text": [
            "Mounted at /content/drive\n"
          ]
        }
      ],
      "source": [
        "from google.colab import drive\n",
        "drive.mount('/content/drive')"
      ]
    },
    {
      "cell_type": "markdown",
      "metadata": {
        "id": "ssh30NOpZg95"
      },
      "source": [
        "# Import Libaray"
      ]
    },
    {
      "cell_type": "code",
      "execution_count": null,
      "metadata": {
        "id": "e2H6lVNYZndj"
      },
      "outputs": [],
      "source": [
        "import pandas as pd\n",
        "import numpy as np\n",
        "import matplotlib.pyplot as plt\n",
        "import random"
      ]
    },
    {
      "cell_type": "markdown",
      "metadata": {
        "id": "ZSLj3N9RY8rM"
      },
      "source": [
        "# Read in Data"
      ]
    },
    {
      "cell_type": "code",
      "execution_count": null,
      "metadata": {
        "id": "4uXWkouRZA8W"
      },
      "outputs": [],
      "source": [
        "data = pd.read_csv('/content/drive/MyDrive/Colab Notebooks/Project/Credit Card Defaulter Prediction.csv')"
      ]
    },
    {
      "cell_type": "markdown",
      "metadata": {
        "id": "F2aQEOBQZ7qX"
      },
      "source": [
        "# Features Describe\n",
        "PAY0: Repayment status in September, 2005 (-1=pay duly, 1=payment delay for one month, 2=payment delay for two months,8=payment delay for eight - months, 9=payment delay for nine months and above) \n",
        "\n",
        "PAY2: Repayment status in August, 2005 (scale same as above)\n",
        "\n",
        "PAY3: Repayment status in July, 2005 (scale same as above)\n",
        "\n",
        "PAY4: Repayment status in June, 2005 (scale same as above)\n",
        "\n",
        "PAY5: Repayment status in May, 2005 (scale same as above)\n",
        "\n",
        "PAY6: Repayment status in April, 2005 (scale same as above)\n",
        "\n",
        "BILLAMT1: Amount of bill statement in September, 2005 (NT dollar) \n",
        "\n",
        "BILLAMT2: Amount of bill statement in August, 2005 (NT dollar)\n",
        "\n",
        "BILLAMT3: Amount of bill statement in July, 2005 (NT dollar) \n",
        "\n",
        "BILLAMT4: Amount of bill statement in June, 2005 (NT dollar)\n",
        "\n",
        "BILLAMT5: Amount of bill statement in May, 2005 (NT dollar) \n",
        "\n",
        "BILLAMT6: Amount of bill statement in April, 2005 (NT dollar)\n",
        "\n",
        "PAYAMT1: Amount of previous payment in September, 2005 (NT dollar) \n",
        "\n",
        "PAYAMT2: Amount of previous payment in August, 2005 (NT dollar)\n",
        "\n",
        "PAYAMT3: Amount of previous payment in July, 2005 (NT dollar) \n",
        "\n",
        "PAYAMT4: Amount of previous payment in June, 2005 (NT dollar)\n",
        "\n",
        "PAYAMT5: Amount of previous payment in May, 2005 (NT dollar) \n",
        "\n",
        "PAYAMT6: Amount of previous payment in April, 2005 (NT dollar)"
      ]
    },
    {
      "cell_type": "markdown",
      "metadata": {
        "id": "UU1nFlSEZuq5"
      },
      "source": [
        "# Check Data"
      ]
    },
    {
      "cell_type": "markdown",
      "metadata": {
        "id": "eTH2DjZSdr3e"
      },
      "source": [
        "# the unique count of default"
      ]
    },
    {
      "cell_type": "code",
      "execution_count": null,
      "metadata": {
        "id": "s5N1It09dhCR",
        "colab": {
          "base_uri": "https://localhost:8080/"
        },
        "outputId": "42480273-b202-4e92-b423-2bc62e9e6c19"
      },
      "outputs": [
        {
          "output_type": "execute_result",
          "data": {
            "text/plain": [
              "N    23364\n",
              "Y     6636\n",
              "Name: default , dtype: int64"
            ]
          },
          "metadata": {},
          "execution_count": 4
        }
      ],
      "source": [
        "data['default '].value_counts() "
      ]
    },
    {
      "cell_type": "code",
      "execution_count": null,
      "metadata": {
        "id": "dQ-Zp5bLuW_x",
        "colab": {
          "base_uri": "https://localhost:8080/"
        },
        "outputId": "4700bf0b-cb4f-4348-a559-6ce88c01857a"
      },
      "outputs": [
        {
          "output_type": "execute_result",
          "data": {
            "text/plain": [
              "(30000, 25)"
            ]
          },
          "metadata": {},
          "execution_count": 5
        }
      ],
      "source": [
        "data.shape"
      ]
    },
    {
      "cell_type": "code",
      "execution_count": null,
      "metadata": {
        "id": "bluxGPDpZyZM",
        "colab": {
          "base_uri": "https://localhost:8080/",
          "height": 392
        },
        "outputId": "b230a6eb-6174-44e0-8874-f1fed8b3d084"
      },
      "outputs": [
        {
          "output_type": "execute_result",
          "data": {
            "text/plain": [
              "   ID  LIMIT_BAL SEX        EDUCATION MARRIAGE  AGE  PAY_0  PAY_2  PAY_3  \\\n",
              "0   1      20000   F       University  Married   24      2      2     -1   \n",
              "1   2     120000   F       University   Single   26     -1      2      0   \n",
              "2   3      90000   F       University   Single   34      0      0      0   \n",
              "3   4      50000   F       University  Married   37      0      0      0   \n",
              "4   5      50000   M       University  Married   57     -1      0     -1   \n",
              "5   6      50000   M  Graduate school   Single   37      0      0      0   \n",
              "6   7     500000   M  Graduate school   Single   29      0      0      0   \n",
              "7   8     100000   F       University   Single   23      0     -1     -1   \n",
              "8   9     140000   F      High School  Married   28      0      0      2   \n",
              "9  10      20000   M      High School   Single   35     -2     -2     -2   \n",
              "\n",
              "   PAY_4  ...  BILL_AMT4  BILL_AMT5  BILL_AMT6  PAY_AMT1  PAY_AMT2  PAY_AMT3  \\\n",
              "0     -1  ...          0          0          0         0       689         0   \n",
              "1      0  ...       3272       3455       3261         0      1000      1000   \n",
              "2      0  ...      14331      14948      15549      1518      1500      1000   \n",
              "3      0  ...      28314      28959      29547      2000      2019      1200   \n",
              "4      0  ...      20940      19146      19131      2000     36681     10000   \n",
              "5      0  ...      19394      19619      20024      2500      1815       657   \n",
              "6      0  ...     542653     483003     473944     55000     40000     38000   \n",
              "7      0  ...        221       -159        567       380       601         0   \n",
              "8      0  ...      12211      11793       3719      3329         0       432   \n",
              "9     -2  ...          0      13007      13912         0         0         0   \n",
              "\n",
              "   PAY_AMT4  PAY_AMT5  PAY_AMT6  default   \n",
              "0         0         0         0         Y  \n",
              "1      1000         0      2000         Y  \n",
              "2      1000      1000      5000         N  \n",
              "3      1100      1069      1000         N  \n",
              "4      9000       689       679         N  \n",
              "5      1000      1000       800         N  \n",
              "6     20239     13750     13770         N  \n",
              "7       581      1687      1542         N  \n",
              "8      1000      1000      1000         N  \n",
              "9     13007      1122         0         N  \n",
              "\n",
              "[10 rows x 25 columns]"
            ],
            "text/html": [
              "\n",
              "  <div id=\"df-27646e8c-6b2c-4943-972a-a217a347d94c\">\n",
              "    <div class=\"colab-df-container\">\n",
              "      <div>\n",
              "<style scoped>\n",
              "    .dataframe tbody tr th:only-of-type {\n",
              "        vertical-align: middle;\n",
              "    }\n",
              "\n",
              "    .dataframe tbody tr th {\n",
              "        vertical-align: top;\n",
              "    }\n",
              "\n",
              "    .dataframe thead th {\n",
              "        text-align: right;\n",
              "    }\n",
              "</style>\n",
              "<table border=\"1\" class=\"dataframe\">\n",
              "  <thead>\n",
              "    <tr style=\"text-align: right;\">\n",
              "      <th></th>\n",
              "      <th>ID</th>\n",
              "      <th>LIMIT_BAL</th>\n",
              "      <th>SEX</th>\n",
              "      <th>EDUCATION</th>\n",
              "      <th>MARRIAGE</th>\n",
              "      <th>AGE</th>\n",
              "      <th>PAY_0</th>\n",
              "      <th>PAY_2</th>\n",
              "      <th>PAY_3</th>\n",
              "      <th>PAY_4</th>\n",
              "      <th>...</th>\n",
              "      <th>BILL_AMT4</th>\n",
              "      <th>BILL_AMT5</th>\n",
              "      <th>BILL_AMT6</th>\n",
              "      <th>PAY_AMT1</th>\n",
              "      <th>PAY_AMT2</th>\n",
              "      <th>PAY_AMT3</th>\n",
              "      <th>PAY_AMT4</th>\n",
              "      <th>PAY_AMT5</th>\n",
              "      <th>PAY_AMT6</th>\n",
              "      <th>default</th>\n",
              "    </tr>\n",
              "  </thead>\n",
              "  <tbody>\n",
              "    <tr>\n",
              "      <th>0</th>\n",
              "      <td>1</td>\n",
              "      <td>20000</td>\n",
              "      <td>F</td>\n",
              "      <td>University</td>\n",
              "      <td>Married</td>\n",
              "      <td>24</td>\n",
              "      <td>2</td>\n",
              "      <td>2</td>\n",
              "      <td>-1</td>\n",
              "      <td>-1</td>\n",
              "      <td>...</td>\n",
              "      <td>0</td>\n",
              "      <td>0</td>\n",
              "      <td>0</td>\n",
              "      <td>0</td>\n",
              "      <td>689</td>\n",
              "      <td>0</td>\n",
              "      <td>0</td>\n",
              "      <td>0</td>\n",
              "      <td>0</td>\n",
              "      <td>Y</td>\n",
              "    </tr>\n",
              "    <tr>\n",
              "      <th>1</th>\n",
              "      <td>2</td>\n",
              "      <td>120000</td>\n",
              "      <td>F</td>\n",
              "      <td>University</td>\n",
              "      <td>Single</td>\n",
              "      <td>26</td>\n",
              "      <td>-1</td>\n",
              "      <td>2</td>\n",
              "      <td>0</td>\n",
              "      <td>0</td>\n",
              "      <td>...</td>\n",
              "      <td>3272</td>\n",
              "      <td>3455</td>\n",
              "      <td>3261</td>\n",
              "      <td>0</td>\n",
              "      <td>1000</td>\n",
              "      <td>1000</td>\n",
              "      <td>1000</td>\n",
              "      <td>0</td>\n",
              "      <td>2000</td>\n",
              "      <td>Y</td>\n",
              "    </tr>\n",
              "    <tr>\n",
              "      <th>2</th>\n",
              "      <td>3</td>\n",
              "      <td>90000</td>\n",
              "      <td>F</td>\n",
              "      <td>University</td>\n",
              "      <td>Single</td>\n",
              "      <td>34</td>\n",
              "      <td>0</td>\n",
              "      <td>0</td>\n",
              "      <td>0</td>\n",
              "      <td>0</td>\n",
              "      <td>...</td>\n",
              "      <td>14331</td>\n",
              "      <td>14948</td>\n",
              "      <td>15549</td>\n",
              "      <td>1518</td>\n",
              "      <td>1500</td>\n",
              "      <td>1000</td>\n",
              "      <td>1000</td>\n",
              "      <td>1000</td>\n",
              "      <td>5000</td>\n",
              "      <td>N</td>\n",
              "    </tr>\n",
              "    <tr>\n",
              "      <th>3</th>\n",
              "      <td>4</td>\n",
              "      <td>50000</td>\n",
              "      <td>F</td>\n",
              "      <td>University</td>\n",
              "      <td>Married</td>\n",
              "      <td>37</td>\n",
              "      <td>0</td>\n",
              "      <td>0</td>\n",
              "      <td>0</td>\n",
              "      <td>0</td>\n",
              "      <td>...</td>\n",
              "      <td>28314</td>\n",
              "      <td>28959</td>\n",
              "      <td>29547</td>\n",
              "      <td>2000</td>\n",
              "      <td>2019</td>\n",
              "      <td>1200</td>\n",
              "      <td>1100</td>\n",
              "      <td>1069</td>\n",
              "      <td>1000</td>\n",
              "      <td>N</td>\n",
              "    </tr>\n",
              "    <tr>\n",
              "      <th>4</th>\n",
              "      <td>5</td>\n",
              "      <td>50000</td>\n",
              "      <td>M</td>\n",
              "      <td>University</td>\n",
              "      <td>Married</td>\n",
              "      <td>57</td>\n",
              "      <td>-1</td>\n",
              "      <td>0</td>\n",
              "      <td>-1</td>\n",
              "      <td>0</td>\n",
              "      <td>...</td>\n",
              "      <td>20940</td>\n",
              "      <td>19146</td>\n",
              "      <td>19131</td>\n",
              "      <td>2000</td>\n",
              "      <td>36681</td>\n",
              "      <td>10000</td>\n",
              "      <td>9000</td>\n",
              "      <td>689</td>\n",
              "      <td>679</td>\n",
              "      <td>N</td>\n",
              "    </tr>\n",
              "    <tr>\n",
              "      <th>5</th>\n",
              "      <td>6</td>\n",
              "      <td>50000</td>\n",
              "      <td>M</td>\n",
              "      <td>Graduate school</td>\n",
              "      <td>Single</td>\n",
              "      <td>37</td>\n",
              "      <td>0</td>\n",
              "      <td>0</td>\n",
              "      <td>0</td>\n",
              "      <td>0</td>\n",
              "      <td>...</td>\n",
              "      <td>19394</td>\n",
              "      <td>19619</td>\n",
              "      <td>20024</td>\n",
              "      <td>2500</td>\n",
              "      <td>1815</td>\n",
              "      <td>657</td>\n",
              "      <td>1000</td>\n",
              "      <td>1000</td>\n",
              "      <td>800</td>\n",
              "      <td>N</td>\n",
              "    </tr>\n",
              "    <tr>\n",
              "      <th>6</th>\n",
              "      <td>7</td>\n",
              "      <td>500000</td>\n",
              "      <td>M</td>\n",
              "      <td>Graduate school</td>\n",
              "      <td>Single</td>\n",
              "      <td>29</td>\n",
              "      <td>0</td>\n",
              "      <td>0</td>\n",
              "      <td>0</td>\n",
              "      <td>0</td>\n",
              "      <td>...</td>\n",
              "      <td>542653</td>\n",
              "      <td>483003</td>\n",
              "      <td>473944</td>\n",
              "      <td>55000</td>\n",
              "      <td>40000</td>\n",
              "      <td>38000</td>\n",
              "      <td>20239</td>\n",
              "      <td>13750</td>\n",
              "      <td>13770</td>\n",
              "      <td>N</td>\n",
              "    </tr>\n",
              "    <tr>\n",
              "      <th>7</th>\n",
              "      <td>8</td>\n",
              "      <td>100000</td>\n",
              "      <td>F</td>\n",
              "      <td>University</td>\n",
              "      <td>Single</td>\n",
              "      <td>23</td>\n",
              "      <td>0</td>\n",
              "      <td>-1</td>\n",
              "      <td>-1</td>\n",
              "      <td>0</td>\n",
              "      <td>...</td>\n",
              "      <td>221</td>\n",
              "      <td>-159</td>\n",
              "      <td>567</td>\n",
              "      <td>380</td>\n",
              "      <td>601</td>\n",
              "      <td>0</td>\n",
              "      <td>581</td>\n",
              "      <td>1687</td>\n",
              "      <td>1542</td>\n",
              "      <td>N</td>\n",
              "    </tr>\n",
              "    <tr>\n",
              "      <th>8</th>\n",
              "      <td>9</td>\n",
              "      <td>140000</td>\n",
              "      <td>F</td>\n",
              "      <td>High School</td>\n",
              "      <td>Married</td>\n",
              "      <td>28</td>\n",
              "      <td>0</td>\n",
              "      <td>0</td>\n",
              "      <td>2</td>\n",
              "      <td>0</td>\n",
              "      <td>...</td>\n",
              "      <td>12211</td>\n",
              "      <td>11793</td>\n",
              "      <td>3719</td>\n",
              "      <td>3329</td>\n",
              "      <td>0</td>\n",
              "      <td>432</td>\n",
              "      <td>1000</td>\n",
              "      <td>1000</td>\n",
              "      <td>1000</td>\n",
              "      <td>N</td>\n",
              "    </tr>\n",
              "    <tr>\n",
              "      <th>9</th>\n",
              "      <td>10</td>\n",
              "      <td>20000</td>\n",
              "      <td>M</td>\n",
              "      <td>High School</td>\n",
              "      <td>Single</td>\n",
              "      <td>35</td>\n",
              "      <td>-2</td>\n",
              "      <td>-2</td>\n",
              "      <td>-2</td>\n",
              "      <td>-2</td>\n",
              "      <td>...</td>\n",
              "      <td>0</td>\n",
              "      <td>13007</td>\n",
              "      <td>13912</td>\n",
              "      <td>0</td>\n",
              "      <td>0</td>\n",
              "      <td>0</td>\n",
              "      <td>13007</td>\n",
              "      <td>1122</td>\n",
              "      <td>0</td>\n",
              "      <td>N</td>\n",
              "    </tr>\n",
              "  </tbody>\n",
              "</table>\n",
              "<p>10 rows × 25 columns</p>\n",
              "</div>\n",
              "      <button class=\"colab-df-convert\" onclick=\"convertToInteractive('df-27646e8c-6b2c-4943-972a-a217a347d94c')\"\n",
              "              title=\"Convert this dataframe to an interactive table.\"\n",
              "              style=\"display:none;\">\n",
              "        \n",
              "  <svg xmlns=\"http://www.w3.org/2000/svg\" height=\"24px\"viewBox=\"0 0 24 24\"\n",
              "       width=\"24px\">\n",
              "    <path d=\"M0 0h24v24H0V0z\" fill=\"none\"/>\n",
              "    <path d=\"M18.56 5.44l.94 2.06.94-2.06 2.06-.94-2.06-.94-.94-2.06-.94 2.06-2.06.94zm-11 1L8.5 8.5l.94-2.06 2.06-.94-2.06-.94L8.5 2.5l-.94 2.06-2.06.94zm10 10l.94 2.06.94-2.06 2.06-.94-2.06-.94-.94-2.06-.94 2.06-2.06.94z\"/><path d=\"M17.41 7.96l-1.37-1.37c-.4-.4-.92-.59-1.43-.59-.52 0-1.04.2-1.43.59L10.3 9.45l-7.72 7.72c-.78.78-.78 2.05 0 2.83L4 21.41c.39.39.9.59 1.41.59.51 0 1.02-.2 1.41-.59l7.78-7.78 2.81-2.81c.8-.78.8-2.07 0-2.86zM5.41 20L4 18.59l7.72-7.72 1.47 1.35L5.41 20z\"/>\n",
              "  </svg>\n",
              "      </button>\n",
              "      \n",
              "  <style>\n",
              "    .colab-df-container {\n",
              "      display:flex;\n",
              "      flex-wrap:wrap;\n",
              "      gap: 12px;\n",
              "    }\n",
              "\n",
              "    .colab-df-convert {\n",
              "      background-color: #E8F0FE;\n",
              "      border: none;\n",
              "      border-radius: 50%;\n",
              "      cursor: pointer;\n",
              "      display: none;\n",
              "      fill: #1967D2;\n",
              "      height: 32px;\n",
              "      padding: 0 0 0 0;\n",
              "      width: 32px;\n",
              "    }\n",
              "\n",
              "    .colab-df-convert:hover {\n",
              "      background-color: #E2EBFA;\n",
              "      box-shadow: 0px 1px 2px rgba(60, 64, 67, 0.3), 0px 1px 3px 1px rgba(60, 64, 67, 0.15);\n",
              "      fill: #174EA6;\n",
              "    }\n",
              "\n",
              "    [theme=dark] .colab-df-convert {\n",
              "      background-color: #3B4455;\n",
              "      fill: #D2E3FC;\n",
              "    }\n",
              "\n",
              "    [theme=dark] .colab-df-convert:hover {\n",
              "      background-color: #434B5C;\n",
              "      box-shadow: 0px 1px 3px 1px rgba(0, 0, 0, 0.15);\n",
              "      filter: drop-shadow(0px 1px 2px rgba(0, 0, 0, 0.3));\n",
              "      fill: #FFFFFF;\n",
              "    }\n",
              "  </style>\n",
              "\n",
              "      <script>\n",
              "        const buttonEl =\n",
              "          document.querySelector('#df-27646e8c-6b2c-4943-972a-a217a347d94c button.colab-df-convert');\n",
              "        buttonEl.style.display =\n",
              "          google.colab.kernel.accessAllowed ? 'block' : 'none';\n",
              "\n",
              "        async function convertToInteractive(key) {\n",
              "          const element = document.querySelector('#df-27646e8c-6b2c-4943-972a-a217a347d94c');\n",
              "          const dataTable =\n",
              "            await google.colab.kernel.invokeFunction('convertToInteractive',\n",
              "                                                     [key], {});\n",
              "          if (!dataTable) return;\n",
              "\n",
              "          const docLinkHtml = 'Like what you see? Visit the ' +\n",
              "            '<a target=\"_blank\" href=https://colab.research.google.com/notebooks/data_table.ipynb>data table notebook</a>'\n",
              "            + ' to learn more about interactive tables.';\n",
              "          element.innerHTML = '';\n",
              "          dataTable['output_type'] = 'display_data';\n",
              "          await google.colab.output.renderOutput(dataTable, element);\n",
              "          const docLink = document.createElement('div');\n",
              "          docLink.innerHTML = docLinkHtml;\n",
              "          element.appendChild(docLink);\n",
              "        }\n",
              "      </script>\n",
              "    </div>\n",
              "  </div>\n",
              "  "
            ]
          },
          "metadata": {},
          "execution_count": 6
        }
      ],
      "source": [
        "data.head(10)"
      ]
    },
    {
      "cell_type": "code",
      "execution_count": null,
      "metadata": {
        "id": "QdnsDInI7Z1B"
      },
      "outputs": [],
      "source": [
        "data = data.drop(columns = [\"ID\"], axis = 1) # ID is useless in such case"
      ]
    },
    {
      "cell_type": "code",
      "execution_count": null,
      "metadata": {
        "id": "D3bAwidUdL6c",
        "colab": {
          "base_uri": "https://localhost:8080/"
        },
        "outputId": "6d896d98-7634-4a8a-ed0b-7325b19b3256"
      },
      "outputs": [
        {
          "output_type": "stream",
          "name": "stdout",
          "text": [
            "<class 'pandas.core.frame.DataFrame'>\n",
            "RangeIndex: 30000 entries, 0 to 29999\n",
            "Data columns (total 24 columns):\n",
            " #   Column     Non-Null Count  Dtype \n",
            "---  ------     --------------  ----- \n",
            " 0   LIMIT_BAL  30000 non-null  int64 \n",
            " 1   SEX        30000 non-null  object\n",
            " 2   EDUCATION  30000 non-null  object\n",
            " 3   MARRIAGE   30000 non-null  object\n",
            " 4   AGE        30000 non-null  int64 \n",
            " 5   PAY_0      30000 non-null  int64 \n",
            " 6   PAY_2      30000 non-null  int64 \n",
            " 7   PAY_3      30000 non-null  int64 \n",
            " 8   PAY_4      30000 non-null  int64 \n",
            " 9   PAY_5      30000 non-null  int64 \n",
            " 10  PAY_6      30000 non-null  int64 \n",
            " 11  BILL_AMT1  30000 non-null  int64 \n",
            " 12  BILL_AMT2  30000 non-null  int64 \n",
            " 13  BILL_AMT3  30000 non-null  int64 \n",
            " 14  BILL_AMT4  30000 non-null  int64 \n",
            " 15  BILL_AMT5  30000 non-null  int64 \n",
            " 16  BILL_AMT6  30000 non-null  int64 \n",
            " 17  PAY_AMT1   30000 non-null  int64 \n",
            " 18  PAY_AMT2   30000 non-null  int64 \n",
            " 19  PAY_AMT3   30000 non-null  int64 \n",
            " 20  PAY_AMT4   30000 non-null  int64 \n",
            " 21  PAY_AMT5   30000 non-null  int64 \n",
            " 22  PAY_AMT6   30000 non-null  int64 \n",
            " 23  default    30000 non-null  object\n",
            "dtypes: int64(20), object(4)\n",
            "memory usage: 5.5+ MB\n"
          ]
        }
      ],
      "source": [
        "data.info() # Getting the data info"
      ]
    },
    {
      "cell_type": "code",
      "execution_count": null,
      "metadata": {
        "id": "vRUulb84ejP6",
        "colab": {
          "base_uri": "https://localhost:8080/"
        },
        "outputId": "78fb0c4e-3f26-4ffc-bdaa-7fc0c527556d"
      },
      "outputs": [
        {
          "output_type": "execute_result",
          "data": {
            "text/plain": [
              "LIMIT_BAL    0\n",
              "SEX          0\n",
              "EDUCATION    0\n",
              "MARRIAGE     0\n",
              "AGE          0\n",
              "PAY_0        0\n",
              "PAY_2        0\n",
              "PAY_3        0\n",
              "PAY_4        0\n",
              "PAY_5        0\n",
              "PAY_6        0\n",
              "BILL_AMT1    0\n",
              "BILL_AMT2    0\n",
              "BILL_AMT3    0\n",
              "BILL_AMT4    0\n",
              "BILL_AMT5    0\n",
              "BILL_AMT6    0\n",
              "PAY_AMT1     0\n",
              "PAY_AMT2     0\n",
              "PAY_AMT3     0\n",
              "PAY_AMT4     0\n",
              "PAY_AMT5     0\n",
              "PAY_AMT6     0\n",
              "default      0\n",
              "dtype: int64"
            ]
          },
          "metadata": {},
          "execution_count": 9
        }
      ],
      "source": [
        "# DataFrame.isnull() returns a boolean same-sized object if the values are NA(True).\n",
        "null_values = (data.isnull().sum()) #*100/len(data) would only change it to float64, useless\n",
        "null_values"
      ]
    },
    {
      "cell_type": "code",
      "execution_count": null,
      "metadata": {
        "id": "iD8ZfxdkeItX",
        "colab": {
          "base_uri": "https://localhost:8080/",
          "height": 300
        },
        "outputId": "6561d7b4-8ed3-429c-a972-b1d6f4b71d55"
      },
      "outputs": [
        {
          "output_type": "execute_result",
          "data": {
            "text/plain": [
              "                 LIMIT_BAL           AGE      BILL_AMT1      BILL_AMT2  \\\n",
              "row_counts    30000.000000  30000.000000   30000.000000   30000.000000   \n",
              "mean         167484.322667     35.485500   51223.330900   49179.075167   \n",
              "std          129747.661567      9.217904   73635.860576   71173.768783   \n",
              "min           10000.000000     21.000000 -165580.000000  -69777.000000   \n",
              "25%           50000.000000     28.000000    3558.750000    2984.750000   \n",
              "median       140000.000000     34.000000   22381.500000   21200.000000   \n",
              "75%          240000.000000     41.000000   67091.000000   64006.250000   \n",
              "max         1000000.000000     79.000000  964511.000000  983931.000000   \n",
              "\n",
              "               BILL_AMT3      BILL_AMT4      BILL_AMT5      BILL_AMT6  \\\n",
              "row_counts  3.000000e+04   30000.000000   30000.000000   30000.000000   \n",
              "mean        4.701315e+04   43262.948967   40311.400967   38871.760400   \n",
              "std         6.934939e+04   64332.856134   60797.155770   59554.107537   \n",
              "min        -1.572640e+05 -170000.000000  -81334.000000 -339603.000000   \n",
              "25%         2.666250e+03    2326.750000    1763.000000    1256.000000   \n",
              "median      2.008850e+04   19052.000000   18104.500000   17071.000000   \n",
              "75%         6.016475e+04   54506.000000   50190.500000   49198.250000   \n",
              "max         1.664089e+06  891586.000000  927171.000000  961664.000000   \n",
              "\n",
              "                 PAY_AMT1      PAY_AMT2      PAY_AMT3       PAY_AMT4  \\\n",
              "row_counts   30000.000000  3.000000e+04   30000.00000   30000.000000   \n",
              "mean          5663.580500  5.921163e+03    5225.68150    4826.076867   \n",
              "std          16563.280354  2.304087e+04   17606.96147   15666.159744   \n",
              "min              0.000000  0.000000e+00       0.00000       0.000000   \n",
              "25%           1000.000000  8.330000e+02     390.00000     296.000000   \n",
              "median        2100.000000  2.009000e+03    1800.00000    1500.000000   \n",
              "75%           5006.000000  5.000000e+03    4505.00000    4013.250000   \n",
              "max         873552.000000  1.684259e+06  896040.00000  621000.000000   \n",
              "\n",
              "                 PAY_AMT5       PAY_AMT6  \n",
              "row_counts   30000.000000   30000.000000  \n",
              "mean          4799.387633    5215.502567  \n",
              "std          15278.305679   17777.465775  \n",
              "min              0.000000       0.000000  \n",
              "25%            252.500000     117.750000  \n",
              "median        1500.000000    1500.000000  \n",
              "75%           4031.500000    4000.000000  \n",
              "max         426529.000000  528666.000000  "
            ],
            "text/html": [
              "\n",
              "  <div id=\"df-1912a97f-8247-4688-a3f1-631a563f3892\">\n",
              "    <div class=\"colab-df-container\">\n",
              "      <div>\n",
              "<style scoped>\n",
              "    .dataframe tbody tr th:only-of-type {\n",
              "        vertical-align: middle;\n",
              "    }\n",
              "\n",
              "    .dataframe tbody tr th {\n",
              "        vertical-align: top;\n",
              "    }\n",
              "\n",
              "    .dataframe thead th {\n",
              "        text-align: right;\n",
              "    }\n",
              "</style>\n",
              "<table border=\"1\" class=\"dataframe\">\n",
              "  <thead>\n",
              "    <tr style=\"text-align: right;\">\n",
              "      <th></th>\n",
              "      <th>LIMIT_BAL</th>\n",
              "      <th>AGE</th>\n",
              "      <th>BILL_AMT1</th>\n",
              "      <th>BILL_AMT2</th>\n",
              "      <th>BILL_AMT3</th>\n",
              "      <th>BILL_AMT4</th>\n",
              "      <th>BILL_AMT5</th>\n",
              "      <th>BILL_AMT6</th>\n",
              "      <th>PAY_AMT1</th>\n",
              "      <th>PAY_AMT2</th>\n",
              "      <th>PAY_AMT3</th>\n",
              "      <th>PAY_AMT4</th>\n",
              "      <th>PAY_AMT5</th>\n",
              "      <th>PAY_AMT6</th>\n",
              "    </tr>\n",
              "  </thead>\n",
              "  <tbody>\n",
              "    <tr>\n",
              "      <th>row_counts</th>\n",
              "      <td>30000.000000</td>\n",
              "      <td>30000.000000</td>\n",
              "      <td>30000.000000</td>\n",
              "      <td>30000.000000</td>\n",
              "      <td>3.000000e+04</td>\n",
              "      <td>30000.000000</td>\n",
              "      <td>30000.000000</td>\n",
              "      <td>30000.000000</td>\n",
              "      <td>30000.000000</td>\n",
              "      <td>3.000000e+04</td>\n",
              "      <td>30000.00000</td>\n",
              "      <td>30000.000000</td>\n",
              "      <td>30000.000000</td>\n",
              "      <td>30000.000000</td>\n",
              "    </tr>\n",
              "    <tr>\n",
              "      <th>mean</th>\n",
              "      <td>167484.322667</td>\n",
              "      <td>35.485500</td>\n",
              "      <td>51223.330900</td>\n",
              "      <td>49179.075167</td>\n",
              "      <td>4.701315e+04</td>\n",
              "      <td>43262.948967</td>\n",
              "      <td>40311.400967</td>\n",
              "      <td>38871.760400</td>\n",
              "      <td>5663.580500</td>\n",
              "      <td>5.921163e+03</td>\n",
              "      <td>5225.68150</td>\n",
              "      <td>4826.076867</td>\n",
              "      <td>4799.387633</td>\n",
              "      <td>5215.502567</td>\n",
              "    </tr>\n",
              "    <tr>\n",
              "      <th>std</th>\n",
              "      <td>129747.661567</td>\n",
              "      <td>9.217904</td>\n",
              "      <td>73635.860576</td>\n",
              "      <td>71173.768783</td>\n",
              "      <td>6.934939e+04</td>\n",
              "      <td>64332.856134</td>\n",
              "      <td>60797.155770</td>\n",
              "      <td>59554.107537</td>\n",
              "      <td>16563.280354</td>\n",
              "      <td>2.304087e+04</td>\n",
              "      <td>17606.96147</td>\n",
              "      <td>15666.159744</td>\n",
              "      <td>15278.305679</td>\n",
              "      <td>17777.465775</td>\n",
              "    </tr>\n",
              "    <tr>\n",
              "      <th>min</th>\n",
              "      <td>10000.000000</td>\n",
              "      <td>21.000000</td>\n",
              "      <td>-165580.000000</td>\n",
              "      <td>-69777.000000</td>\n",
              "      <td>-1.572640e+05</td>\n",
              "      <td>-170000.000000</td>\n",
              "      <td>-81334.000000</td>\n",
              "      <td>-339603.000000</td>\n",
              "      <td>0.000000</td>\n",
              "      <td>0.000000e+00</td>\n",
              "      <td>0.00000</td>\n",
              "      <td>0.000000</td>\n",
              "      <td>0.000000</td>\n",
              "      <td>0.000000</td>\n",
              "    </tr>\n",
              "    <tr>\n",
              "      <th>25%</th>\n",
              "      <td>50000.000000</td>\n",
              "      <td>28.000000</td>\n",
              "      <td>3558.750000</td>\n",
              "      <td>2984.750000</td>\n",
              "      <td>2.666250e+03</td>\n",
              "      <td>2326.750000</td>\n",
              "      <td>1763.000000</td>\n",
              "      <td>1256.000000</td>\n",
              "      <td>1000.000000</td>\n",
              "      <td>8.330000e+02</td>\n",
              "      <td>390.00000</td>\n",
              "      <td>296.000000</td>\n",
              "      <td>252.500000</td>\n",
              "      <td>117.750000</td>\n",
              "    </tr>\n",
              "    <tr>\n",
              "      <th>median</th>\n",
              "      <td>140000.000000</td>\n",
              "      <td>34.000000</td>\n",
              "      <td>22381.500000</td>\n",
              "      <td>21200.000000</td>\n",
              "      <td>2.008850e+04</td>\n",
              "      <td>19052.000000</td>\n",
              "      <td>18104.500000</td>\n",
              "      <td>17071.000000</td>\n",
              "      <td>2100.000000</td>\n",
              "      <td>2.009000e+03</td>\n",
              "      <td>1800.00000</td>\n",
              "      <td>1500.000000</td>\n",
              "      <td>1500.000000</td>\n",
              "      <td>1500.000000</td>\n",
              "    </tr>\n",
              "    <tr>\n",
              "      <th>75%</th>\n",
              "      <td>240000.000000</td>\n",
              "      <td>41.000000</td>\n",
              "      <td>67091.000000</td>\n",
              "      <td>64006.250000</td>\n",
              "      <td>6.016475e+04</td>\n",
              "      <td>54506.000000</td>\n",
              "      <td>50190.500000</td>\n",
              "      <td>49198.250000</td>\n",
              "      <td>5006.000000</td>\n",
              "      <td>5.000000e+03</td>\n",
              "      <td>4505.00000</td>\n",
              "      <td>4013.250000</td>\n",
              "      <td>4031.500000</td>\n",
              "      <td>4000.000000</td>\n",
              "    </tr>\n",
              "    <tr>\n",
              "      <th>max</th>\n",
              "      <td>1000000.000000</td>\n",
              "      <td>79.000000</td>\n",
              "      <td>964511.000000</td>\n",
              "      <td>983931.000000</td>\n",
              "      <td>1.664089e+06</td>\n",
              "      <td>891586.000000</td>\n",
              "      <td>927171.000000</td>\n",
              "      <td>961664.000000</td>\n",
              "      <td>873552.000000</td>\n",
              "      <td>1.684259e+06</td>\n",
              "      <td>896040.00000</td>\n",
              "      <td>621000.000000</td>\n",
              "      <td>426529.000000</td>\n",
              "      <td>528666.000000</td>\n",
              "    </tr>\n",
              "  </tbody>\n",
              "</table>\n",
              "</div>\n",
              "      <button class=\"colab-df-convert\" onclick=\"convertToInteractive('df-1912a97f-8247-4688-a3f1-631a563f3892')\"\n",
              "              title=\"Convert this dataframe to an interactive table.\"\n",
              "              style=\"display:none;\">\n",
              "        \n",
              "  <svg xmlns=\"http://www.w3.org/2000/svg\" height=\"24px\"viewBox=\"0 0 24 24\"\n",
              "       width=\"24px\">\n",
              "    <path d=\"M0 0h24v24H0V0z\" fill=\"none\"/>\n",
              "    <path d=\"M18.56 5.44l.94 2.06.94-2.06 2.06-.94-2.06-.94-.94-2.06-.94 2.06-2.06.94zm-11 1L8.5 8.5l.94-2.06 2.06-.94-2.06-.94L8.5 2.5l-.94 2.06-2.06.94zm10 10l.94 2.06.94-2.06 2.06-.94-2.06-.94-.94-2.06-.94 2.06-2.06.94z\"/><path d=\"M17.41 7.96l-1.37-1.37c-.4-.4-.92-.59-1.43-.59-.52 0-1.04.2-1.43.59L10.3 9.45l-7.72 7.72c-.78.78-.78 2.05 0 2.83L4 21.41c.39.39.9.59 1.41.59.51 0 1.02-.2 1.41-.59l7.78-7.78 2.81-2.81c.8-.78.8-2.07 0-2.86zM5.41 20L4 18.59l7.72-7.72 1.47 1.35L5.41 20z\"/>\n",
              "  </svg>\n",
              "      </button>\n",
              "      \n",
              "  <style>\n",
              "    .colab-df-container {\n",
              "      display:flex;\n",
              "      flex-wrap:wrap;\n",
              "      gap: 12px;\n",
              "    }\n",
              "\n",
              "    .colab-df-convert {\n",
              "      background-color: #E8F0FE;\n",
              "      border: none;\n",
              "      border-radius: 50%;\n",
              "      cursor: pointer;\n",
              "      display: none;\n",
              "      fill: #1967D2;\n",
              "      height: 32px;\n",
              "      padding: 0 0 0 0;\n",
              "      width: 32px;\n",
              "    }\n",
              "\n",
              "    .colab-df-convert:hover {\n",
              "      background-color: #E2EBFA;\n",
              "      box-shadow: 0px 1px 2px rgba(60, 64, 67, 0.3), 0px 1px 3px 1px rgba(60, 64, 67, 0.15);\n",
              "      fill: #174EA6;\n",
              "    }\n",
              "\n",
              "    [theme=dark] .colab-df-convert {\n",
              "      background-color: #3B4455;\n",
              "      fill: #D2E3FC;\n",
              "    }\n",
              "\n",
              "    [theme=dark] .colab-df-convert:hover {\n",
              "      background-color: #434B5C;\n",
              "      box-shadow: 0px 1px 3px 1px rgba(0, 0, 0, 0.15);\n",
              "      filter: drop-shadow(0px 1px 2px rgba(0, 0, 0, 0.3));\n",
              "      fill: #FFFFFF;\n",
              "    }\n",
              "  </style>\n",
              "\n",
              "      <script>\n",
              "        const buttonEl =\n",
              "          document.querySelector('#df-1912a97f-8247-4688-a3f1-631a563f3892 button.colab-df-convert');\n",
              "        buttonEl.style.display =\n",
              "          google.colab.kernel.accessAllowed ? 'block' : 'none';\n",
              "\n",
              "        async function convertToInteractive(key) {\n",
              "          const element = document.querySelector('#df-1912a97f-8247-4688-a3f1-631a563f3892');\n",
              "          const dataTable =\n",
              "            await google.colab.kernel.invokeFunction('convertToInteractive',\n",
              "                                                     [key], {});\n",
              "          if (!dataTable) return;\n",
              "\n",
              "          const docLinkHtml = 'Like what you see? Visit the ' +\n",
              "            '<a target=\"_blank\" href=https://colab.research.google.com/notebooks/data_table.ipynb>data table notebook</a>'\n",
              "            + ' to learn more about interactive tables.';\n",
              "          element.innerHTML = '';\n",
              "          dataTable['output_type'] = 'display_data';\n",
              "          await google.colab.output.renderOutput(dataTable, element);\n",
              "          const docLink = document.createElement('div');\n",
              "          docLink.innerHTML = docLinkHtml;\n",
              "          element.appendChild(docLink);\n",
              "        }\n",
              "      </script>\n",
              "    </div>\n",
              "  </div>\n",
              "  "
            ]
          },
          "metadata": {},
          "execution_count": 10
        }
      ],
      "source": [
        "# Generates descriptive statistics.\n",
        "data_statistics = data.describe()\n",
        "data_statistics = data_statistics.rename(index={'count': 'row_counts', '50%': 'median'})\n",
        "data_statistics.drop(columns=['PAY_0', 'PAY_2', 'PAY_3', 'PAY_4', 'PAY_5', 'PAY_6'])"
      ]
    },
    {
      "cell_type": "markdown",
      "metadata": {
        "id": "N3c5SELJwH-8"
      },
      "source": [
        "# Get Dummy Variables"
      ]
    },
    {
      "cell_type": "code",
      "execution_count": null,
      "metadata": {
        "id": "hpS_H019wHNr"
      },
      "outputs": [],
      "source": [
        "dummies = pd.get_dummies(data, columns = ['SEX', 'EDUCATION', 'MARRIAGE'])"
      ]
    },
    {
      "cell_type": "code",
      "execution_count": null,
      "metadata": {
        "id": "X1rUO_Tb_xcP",
        "colab": {
          "base_uri": "https://localhost:8080/",
          "height": 424
        },
        "outputId": "cc0b4b0b-edfc-413d-cbc0-21534ae6ced5"
      },
      "outputs": [
        {
          "output_type": "execute_result",
          "data": {
            "text/plain": [
              "       SEX_F  SEX_M  EDUCATION_0  EDUCATION_Graduate school  \\\n",
              "0          1      0            0                          0   \n",
              "1          1      0            0                          0   \n",
              "2          1      0            0                          0   \n",
              "3          1      0            0                          0   \n",
              "4          0      1            0                          0   \n",
              "...      ...    ...          ...                        ...   \n",
              "29995      0      1            0                          0   \n",
              "29996      0      1            0                          0   \n",
              "29997      0      1            0                          0   \n",
              "29998      0      1            0                          0   \n",
              "29999      0      1            0                          0   \n",
              "\n",
              "       EDUCATION_High School  EDUCATION_Others  EDUCATION_University  \\\n",
              "0                          0                 0                     1   \n",
              "1                          0                 0                     1   \n",
              "2                          0                 0                     1   \n",
              "3                          0                 0                     1   \n",
              "4                          0                 0                     1   \n",
              "...                      ...               ...                   ...   \n",
              "29995                      1                 0                     0   \n",
              "29996                      1                 0                     0   \n",
              "29997                      0                 0                     1   \n",
              "29998                      1                 0                     0   \n",
              "29999                      0                 0                     1   \n",
              "\n",
              "       EDUCATION_Unknown  MARRIAGE_0  MARRIAGE_Married  MARRIAGE_Other  \\\n",
              "0                      0           0                 1               0   \n",
              "1                      0           0                 0               0   \n",
              "2                      0           0                 0               0   \n",
              "3                      0           0                 1               0   \n",
              "4                      0           0                 1               0   \n",
              "...                  ...         ...               ...             ...   \n",
              "29995                  0           0                 1               0   \n",
              "29996                  0           0                 0               0   \n",
              "29997                  0           0                 0               0   \n",
              "29998                  0           0                 1               0   \n",
              "29999                  0           0                 1               0   \n",
              "\n",
              "       MARRIAGE_Single  \n",
              "0                    0  \n",
              "1                    1  \n",
              "2                    1  \n",
              "3                    0  \n",
              "4                    0  \n",
              "...                ...  \n",
              "29995                0  \n",
              "29996                1  \n",
              "29997                1  \n",
              "29998                0  \n",
              "29999                0  \n",
              "\n",
              "[30000 rows x 12 columns]"
            ],
            "text/html": [
              "\n",
              "  <div id=\"df-3f1ddf8c-6c63-4458-bc2b-84f0cc5016fe\">\n",
              "    <div class=\"colab-df-container\">\n",
              "      <div>\n",
              "<style scoped>\n",
              "    .dataframe tbody tr th:only-of-type {\n",
              "        vertical-align: middle;\n",
              "    }\n",
              "\n",
              "    .dataframe tbody tr th {\n",
              "        vertical-align: top;\n",
              "    }\n",
              "\n",
              "    .dataframe thead th {\n",
              "        text-align: right;\n",
              "    }\n",
              "</style>\n",
              "<table border=\"1\" class=\"dataframe\">\n",
              "  <thead>\n",
              "    <tr style=\"text-align: right;\">\n",
              "      <th></th>\n",
              "      <th>SEX_F</th>\n",
              "      <th>SEX_M</th>\n",
              "      <th>EDUCATION_0</th>\n",
              "      <th>EDUCATION_Graduate school</th>\n",
              "      <th>EDUCATION_High School</th>\n",
              "      <th>EDUCATION_Others</th>\n",
              "      <th>EDUCATION_University</th>\n",
              "      <th>EDUCATION_Unknown</th>\n",
              "      <th>MARRIAGE_0</th>\n",
              "      <th>MARRIAGE_Married</th>\n",
              "      <th>MARRIAGE_Other</th>\n",
              "      <th>MARRIAGE_Single</th>\n",
              "    </tr>\n",
              "  </thead>\n",
              "  <tbody>\n",
              "    <tr>\n",
              "      <th>0</th>\n",
              "      <td>1</td>\n",
              "      <td>0</td>\n",
              "      <td>0</td>\n",
              "      <td>0</td>\n",
              "      <td>0</td>\n",
              "      <td>0</td>\n",
              "      <td>1</td>\n",
              "      <td>0</td>\n",
              "      <td>0</td>\n",
              "      <td>1</td>\n",
              "      <td>0</td>\n",
              "      <td>0</td>\n",
              "    </tr>\n",
              "    <tr>\n",
              "      <th>1</th>\n",
              "      <td>1</td>\n",
              "      <td>0</td>\n",
              "      <td>0</td>\n",
              "      <td>0</td>\n",
              "      <td>0</td>\n",
              "      <td>0</td>\n",
              "      <td>1</td>\n",
              "      <td>0</td>\n",
              "      <td>0</td>\n",
              "      <td>0</td>\n",
              "      <td>0</td>\n",
              "      <td>1</td>\n",
              "    </tr>\n",
              "    <tr>\n",
              "      <th>2</th>\n",
              "      <td>1</td>\n",
              "      <td>0</td>\n",
              "      <td>0</td>\n",
              "      <td>0</td>\n",
              "      <td>0</td>\n",
              "      <td>0</td>\n",
              "      <td>1</td>\n",
              "      <td>0</td>\n",
              "      <td>0</td>\n",
              "      <td>0</td>\n",
              "      <td>0</td>\n",
              "      <td>1</td>\n",
              "    </tr>\n",
              "    <tr>\n",
              "      <th>3</th>\n",
              "      <td>1</td>\n",
              "      <td>0</td>\n",
              "      <td>0</td>\n",
              "      <td>0</td>\n",
              "      <td>0</td>\n",
              "      <td>0</td>\n",
              "      <td>1</td>\n",
              "      <td>0</td>\n",
              "      <td>0</td>\n",
              "      <td>1</td>\n",
              "      <td>0</td>\n",
              "      <td>0</td>\n",
              "    </tr>\n",
              "    <tr>\n",
              "      <th>4</th>\n",
              "      <td>0</td>\n",
              "      <td>1</td>\n",
              "      <td>0</td>\n",
              "      <td>0</td>\n",
              "      <td>0</td>\n",
              "      <td>0</td>\n",
              "      <td>1</td>\n",
              "      <td>0</td>\n",
              "      <td>0</td>\n",
              "      <td>1</td>\n",
              "      <td>0</td>\n",
              "      <td>0</td>\n",
              "    </tr>\n",
              "    <tr>\n",
              "      <th>...</th>\n",
              "      <td>...</td>\n",
              "      <td>...</td>\n",
              "      <td>...</td>\n",
              "      <td>...</td>\n",
              "      <td>...</td>\n",
              "      <td>...</td>\n",
              "      <td>...</td>\n",
              "      <td>...</td>\n",
              "      <td>...</td>\n",
              "      <td>...</td>\n",
              "      <td>...</td>\n",
              "      <td>...</td>\n",
              "    </tr>\n",
              "    <tr>\n",
              "      <th>29995</th>\n",
              "      <td>0</td>\n",
              "      <td>1</td>\n",
              "      <td>0</td>\n",
              "      <td>0</td>\n",
              "      <td>1</td>\n",
              "      <td>0</td>\n",
              "      <td>0</td>\n",
              "      <td>0</td>\n",
              "      <td>0</td>\n",
              "      <td>1</td>\n",
              "      <td>0</td>\n",
              "      <td>0</td>\n",
              "    </tr>\n",
              "    <tr>\n",
              "      <th>29996</th>\n",
              "      <td>0</td>\n",
              "      <td>1</td>\n",
              "      <td>0</td>\n",
              "      <td>0</td>\n",
              "      <td>1</td>\n",
              "      <td>0</td>\n",
              "      <td>0</td>\n",
              "      <td>0</td>\n",
              "      <td>0</td>\n",
              "      <td>0</td>\n",
              "      <td>0</td>\n",
              "      <td>1</td>\n",
              "    </tr>\n",
              "    <tr>\n",
              "      <th>29997</th>\n",
              "      <td>0</td>\n",
              "      <td>1</td>\n",
              "      <td>0</td>\n",
              "      <td>0</td>\n",
              "      <td>0</td>\n",
              "      <td>0</td>\n",
              "      <td>1</td>\n",
              "      <td>0</td>\n",
              "      <td>0</td>\n",
              "      <td>0</td>\n",
              "      <td>0</td>\n",
              "      <td>1</td>\n",
              "    </tr>\n",
              "    <tr>\n",
              "      <th>29998</th>\n",
              "      <td>0</td>\n",
              "      <td>1</td>\n",
              "      <td>0</td>\n",
              "      <td>0</td>\n",
              "      <td>1</td>\n",
              "      <td>0</td>\n",
              "      <td>0</td>\n",
              "      <td>0</td>\n",
              "      <td>0</td>\n",
              "      <td>1</td>\n",
              "      <td>0</td>\n",
              "      <td>0</td>\n",
              "    </tr>\n",
              "    <tr>\n",
              "      <th>29999</th>\n",
              "      <td>0</td>\n",
              "      <td>1</td>\n",
              "      <td>0</td>\n",
              "      <td>0</td>\n",
              "      <td>0</td>\n",
              "      <td>0</td>\n",
              "      <td>1</td>\n",
              "      <td>0</td>\n",
              "      <td>0</td>\n",
              "      <td>1</td>\n",
              "      <td>0</td>\n",
              "      <td>0</td>\n",
              "    </tr>\n",
              "  </tbody>\n",
              "</table>\n",
              "<p>30000 rows × 12 columns</p>\n",
              "</div>\n",
              "      <button class=\"colab-df-convert\" onclick=\"convertToInteractive('df-3f1ddf8c-6c63-4458-bc2b-84f0cc5016fe')\"\n",
              "              title=\"Convert this dataframe to an interactive table.\"\n",
              "              style=\"display:none;\">\n",
              "        \n",
              "  <svg xmlns=\"http://www.w3.org/2000/svg\" height=\"24px\"viewBox=\"0 0 24 24\"\n",
              "       width=\"24px\">\n",
              "    <path d=\"M0 0h24v24H0V0z\" fill=\"none\"/>\n",
              "    <path d=\"M18.56 5.44l.94 2.06.94-2.06 2.06-.94-2.06-.94-.94-2.06-.94 2.06-2.06.94zm-11 1L8.5 8.5l.94-2.06 2.06-.94-2.06-.94L8.5 2.5l-.94 2.06-2.06.94zm10 10l.94 2.06.94-2.06 2.06-.94-2.06-.94-.94-2.06-.94 2.06-2.06.94z\"/><path d=\"M17.41 7.96l-1.37-1.37c-.4-.4-.92-.59-1.43-.59-.52 0-1.04.2-1.43.59L10.3 9.45l-7.72 7.72c-.78.78-.78 2.05 0 2.83L4 21.41c.39.39.9.59 1.41.59.51 0 1.02-.2 1.41-.59l7.78-7.78 2.81-2.81c.8-.78.8-2.07 0-2.86zM5.41 20L4 18.59l7.72-7.72 1.47 1.35L5.41 20z\"/>\n",
              "  </svg>\n",
              "      </button>\n",
              "      \n",
              "  <style>\n",
              "    .colab-df-container {\n",
              "      display:flex;\n",
              "      flex-wrap:wrap;\n",
              "      gap: 12px;\n",
              "    }\n",
              "\n",
              "    .colab-df-convert {\n",
              "      background-color: #E8F0FE;\n",
              "      border: none;\n",
              "      border-radius: 50%;\n",
              "      cursor: pointer;\n",
              "      display: none;\n",
              "      fill: #1967D2;\n",
              "      height: 32px;\n",
              "      padding: 0 0 0 0;\n",
              "      width: 32px;\n",
              "    }\n",
              "\n",
              "    .colab-df-convert:hover {\n",
              "      background-color: #E2EBFA;\n",
              "      box-shadow: 0px 1px 2px rgba(60, 64, 67, 0.3), 0px 1px 3px 1px rgba(60, 64, 67, 0.15);\n",
              "      fill: #174EA6;\n",
              "    }\n",
              "\n",
              "    [theme=dark] .colab-df-convert {\n",
              "      background-color: #3B4455;\n",
              "      fill: #D2E3FC;\n",
              "    }\n",
              "\n",
              "    [theme=dark] .colab-df-convert:hover {\n",
              "      background-color: #434B5C;\n",
              "      box-shadow: 0px 1px 3px 1px rgba(0, 0, 0, 0.15);\n",
              "      filter: drop-shadow(0px 1px 2px rgba(0, 0, 0, 0.3));\n",
              "      fill: #FFFFFF;\n",
              "    }\n",
              "  </style>\n",
              "\n",
              "      <script>\n",
              "        const buttonEl =\n",
              "          document.querySelector('#df-3f1ddf8c-6c63-4458-bc2b-84f0cc5016fe button.colab-df-convert');\n",
              "        buttonEl.style.display =\n",
              "          google.colab.kernel.accessAllowed ? 'block' : 'none';\n",
              "\n",
              "        async function convertToInteractive(key) {\n",
              "          const element = document.querySelector('#df-3f1ddf8c-6c63-4458-bc2b-84f0cc5016fe');\n",
              "          const dataTable =\n",
              "            await google.colab.kernel.invokeFunction('convertToInteractive',\n",
              "                                                     [key], {});\n",
              "          if (!dataTable) return;\n",
              "\n",
              "          const docLinkHtml = 'Like what you see? Visit the ' +\n",
              "            '<a target=\"_blank\" href=https://colab.research.google.com/notebooks/data_table.ipynb>data table notebook</a>'\n",
              "            + ' to learn more about interactive tables.';\n",
              "          element.innerHTML = '';\n",
              "          dataTable['output_type'] = 'display_data';\n",
              "          await google.colab.output.renderOutput(dataTable, element);\n",
              "          const docLink = document.createElement('div');\n",
              "          docLink.innerHTML = docLinkHtml;\n",
              "          element.appendChild(docLink);\n",
              "        }\n",
              "      </script>\n",
              "    </div>\n",
              "  </div>\n",
              "  "
            ]
          },
          "metadata": {},
          "execution_count": 12
        }
      ],
      "source": [
        "dummies.iloc[0:, 21:]"
      ]
    },
    {
      "cell_type": "code",
      "execution_count": null,
      "metadata": {
        "id": "8VZ5OKtbi4ti"
      },
      "outputs": [],
      "source": [
        "import warnings \n",
        "# ignore and never print any matching warnings, why??\n",
        "warnings.filterwarnings(action= 'ignore')\n",
        "# Change all defaults into 0 and 1 as well\n",
        "dummies.loc[dummies['default '] == 'Y', 'default '] = 1\n",
        "dummies.loc[dummies['default '] == 'N', 'default '] = 0\n",
        "\n",
        "dummies = dummies.astype('int')"
      ]
    },
    {
      "cell_type": "code",
      "execution_count": null,
      "metadata": {
        "id": "ZCaNkKOKi_Wz",
        "colab": {
          "base_uri": "https://localhost:8080/"
        },
        "outputId": "088bb9b0-e762-4ceb-9fa7-0d0d874a9434"
      },
      "outputs": [
        {
          "output_type": "stream",
          "name": "stdout",
          "text": [
            "<class 'pandas.core.frame.DataFrame'>\n",
            "RangeIndex: 30000 entries, 0 to 29999\n",
            "Data columns (total 33 columns):\n",
            " #   Column                     Non-Null Count  Dtype\n",
            "---  ------                     --------------  -----\n",
            " 0   LIMIT_BAL                  30000 non-null  int64\n",
            " 1   AGE                        30000 non-null  int64\n",
            " 2   PAY_0                      30000 non-null  int64\n",
            " 3   PAY_2                      30000 non-null  int64\n",
            " 4   PAY_3                      30000 non-null  int64\n",
            " 5   PAY_4                      30000 non-null  int64\n",
            " 6   PAY_5                      30000 non-null  int64\n",
            " 7   PAY_6                      30000 non-null  int64\n",
            " 8   BILL_AMT1                  30000 non-null  int64\n",
            " 9   BILL_AMT2                  30000 non-null  int64\n",
            " 10  BILL_AMT3                  30000 non-null  int64\n",
            " 11  BILL_AMT4                  30000 non-null  int64\n",
            " 12  BILL_AMT5                  30000 non-null  int64\n",
            " 13  BILL_AMT6                  30000 non-null  int64\n",
            " 14  PAY_AMT1                   30000 non-null  int64\n",
            " 15  PAY_AMT2                   30000 non-null  int64\n",
            " 16  PAY_AMT3                   30000 non-null  int64\n",
            " 17  PAY_AMT4                   30000 non-null  int64\n",
            " 18  PAY_AMT5                   30000 non-null  int64\n",
            " 19  PAY_AMT6                   30000 non-null  int64\n",
            " 20  default                    30000 non-null  int64\n",
            " 21  SEX_F                      30000 non-null  int64\n",
            " 22  SEX_M                      30000 non-null  int64\n",
            " 23  EDUCATION_0                30000 non-null  int64\n",
            " 24  EDUCATION_Graduate school  30000 non-null  int64\n",
            " 25  EDUCATION_High School      30000 non-null  int64\n",
            " 26  EDUCATION_Others           30000 non-null  int64\n",
            " 27  EDUCATION_University       30000 non-null  int64\n",
            " 28  EDUCATION_Unknown          30000 non-null  int64\n",
            " 29  MARRIAGE_0                 30000 non-null  int64\n",
            " 30  MARRIAGE_Married           30000 non-null  int64\n",
            " 31  MARRIAGE_Other             30000 non-null  int64\n",
            " 32  MARRIAGE_Single            30000 non-null  int64\n",
            "dtypes: int64(33)\n",
            "memory usage: 7.6 MB\n"
          ]
        }
      ],
      "source": [
        "dummies.info()"
      ]
    },
    {
      "cell_type": "markdown",
      "metadata": {
        "id": "_7V9o5sPyr9-"
      },
      "source": [
        "# Best subset selection\n",
        "\n",
        "Best subset selection is a method that aims to find the subset of independent variables (Xi) that best predict the outcome (Y) and it does so by considering all possible combinations of independent variables.\n",
        "\n",
        "Step 1: Consider all possible models\n",
        "\n",
        "Step 2: Identify the best model of each size\n",
        "\n",
        "Step 3: Identify the best overall model"
      ]
    },
    {
      "cell_type": "markdown",
      "metadata": {
        "id": "PK1HBUQ7ywUz"
      },
      "source": [
        "# Import Libaray"
      ]
    },
    {
      "cell_type": "code",
      "execution_count": null,
      "metadata": {
        "id": "sF8kbGN6y0ms"
      },
      "outputs": [],
      "source": [
        "import itertools\n",
        "import time\n",
        "import seaborn as sns\n",
        "import statsmodels.api as sm\n",
        "from sklearn import linear_model\n",
        "from sklearn.metrics import mean_squared_error\n",
        "from tqdm import tnrange, tqdm_notebook\n",
        "\n",
        "%matplotlib inline\n",
        "plt.style.use('ggplot') # something similar to matploblib"
      ]
    },
    {
      "cell_type": "markdown",
      "metadata": {
        "id": "pYD1bcDHz88Z"
      },
      "source": [
        "# Helper function for fitting linear regression (Sklearn)\n",
        "\n",
        "Linear regression:\n",
        "\n",
        "is a measurement that helps determine the strength of the relationship between a dependent variable and one or more other factors, known as independent or explanatory variables.\n",
        "\n",
        "Residual sum of squares:\n",
        "\n",
        "The smaller the residual sum of squares, the better your model fits your data; the greater the residual sum of squares, the poorer your model fits your data. \n",
        "\n",
        "Helper function:\n",
        "\n",
        "a function that performs part of the computation of another function following the DRY (Don't repeat yourself) concept.\n",
        "\n",
        "\n",
        "It takes very long time to finish the step (about 6 hours)"
      ]
    },
    {
      "cell_type": "code",
      "execution_count": null,
      "metadata": {
        "id": "vTNp9OYpz5rH"
      },
      "outputs": [],
      "source": [
        "def fit_linear_reg(X,Y):\n",
        "    #Fit linear regression model and return RSS and R squared values\n",
        "    model_k = linear_model.LinearRegression(fit_intercept = True)\n",
        "    model_k.fit(X,Y)\n",
        "    RSS = mean_squared_error(Y,model_k.predict(X)) * len(Y) # RSS = Residual Sum of Squares --> absolute amount of variance (residue) not explained by the regression model.\n",
        "    R_squared = model_k.score(X,Y) # R_Squared = the absoute amount of variation as a proportion of total variation.\n",
        "    return RSS, R_squared"
      ]
    },
    {
      "cell_type": "code",
      "execution_count": null,
      "metadata": {
        "id": "C68paSqY0Hwl",
        "colab": {
          "base_uri": "https://localhost:8080/",
          "height": 413,
          "referenced_widgets": [
            "37e8906598bb4483a256673d14a6602d"
          ]
        },
        "outputId": "c4e95bf8-6be6-4731-cca9-7b5f7c80489e"
      },
      "outputs": [
        {
          "data": {
            "application/vnd.jupyter.widget-view+json": {
              "model_id": "37e8906598bb4483a256673d14a6602d",
              "version_major": 2,
              "version_minor": 0
            },
            "text/plain": [
              "Loop...:   0%|          | 0/32 [00:00<?, ?it/s]"
            ]
          },
          "metadata": {},
          "output_type": "display_data"
        },
        {
          "output_type": "error",
          "ename": "KeyboardInterrupt",
          "evalue": "ignored",
          "traceback": [
            "\u001b[0;31m---------------------------------------------------------------------------\u001b[0m",
            "\u001b[0;31mKeyboardInterrupt\u001b[0m                         Traceback (most recent call last)",
            "\u001b[0;32m<ipython-input-19-0a65747ecfee>\u001b[0m in \u001b[0;36m<module>\u001b[0;34m()\u001b[0m\n\u001b[1;32m     14\u001b[0m     \u001b[0;31m#Looping over all possible combinations: from 11 choose k\u001b[0m\u001b[0;34m\u001b[0m\u001b[0;34m\u001b[0m\u001b[0;34m\u001b[0m\u001b[0m\n\u001b[1;32m     15\u001b[0m     \u001b[0;32mfor\u001b[0m \u001b[0mcombo\u001b[0m \u001b[0;32min\u001b[0m \u001b[0mitertools\u001b[0m\u001b[0;34m.\u001b[0m\u001b[0mcombinations\u001b[0m\u001b[0;34m(\u001b[0m\u001b[0mX\u001b[0m\u001b[0;34m.\u001b[0m\u001b[0mcolumns\u001b[0m\u001b[0;34m,\u001b[0m\u001b[0mk\u001b[0m\u001b[0;34m)\u001b[0m\u001b[0;34m:\u001b[0m \u001b[0;31m# used to creation of iterators which helps us in efficient looping in terms of space as well as time.\u001b[0m\u001b[0;34m\u001b[0m\u001b[0;34m\u001b[0m\u001b[0m\n\u001b[0;32m---> 16\u001b[0;31m         \u001b[0mtmp_result\u001b[0m \u001b[0;34m=\u001b[0m \u001b[0mfit_linear_reg\u001b[0m\u001b[0;34m(\u001b[0m\u001b[0mX\u001b[0m\u001b[0;34m[\u001b[0m\u001b[0mlist\u001b[0m\u001b[0;34m(\u001b[0m\u001b[0mcombo\u001b[0m\u001b[0;34m)\u001b[0m\u001b[0;34m]\u001b[0m\u001b[0;34m,\u001b[0m\u001b[0mY\u001b[0m\u001b[0;34m)\u001b[0m   \u001b[0;31m#Store temp result\u001b[0m\u001b[0;34m\u001b[0m\u001b[0;34m\u001b[0m\u001b[0m\n\u001b[0m\u001b[1;32m     17\u001b[0m         \u001b[0mRSS_list\u001b[0m\u001b[0;34m.\u001b[0m\u001b[0mappend\u001b[0m\u001b[0;34m(\u001b[0m\u001b[0mtmp_result\u001b[0m\u001b[0;34m[\u001b[0m\u001b[0;36m0\u001b[0m\u001b[0;34m]\u001b[0m\u001b[0;34m)\u001b[0m                  \u001b[0;31m#Append lists (Append each RSS per column into the list)\u001b[0m\u001b[0;34m\u001b[0m\u001b[0;34m\u001b[0m\u001b[0m\n\u001b[1;32m     18\u001b[0m         \u001b[0mR_squared_list\u001b[0m\u001b[0;34m.\u001b[0m\u001b[0mappend\u001b[0m\u001b[0;34m(\u001b[0m\u001b[0mtmp_result\u001b[0m\u001b[0;34m[\u001b[0m\u001b[0;36m1\u001b[0m\u001b[0;34m]\u001b[0m\u001b[0;34m)\u001b[0m            \u001b[0;31m#Append lists (Append each R_squared per column into the list)\u001b[0m\u001b[0;34m\u001b[0m\u001b[0;34m\u001b[0m\u001b[0m\n",
            "\u001b[0;32m<ipython-input-16-eff02c3752cf>\u001b[0m in \u001b[0;36mfit_linear_reg\u001b[0;34m(X, Y)\u001b[0m\n\u001b[1;32m      2\u001b[0m     \u001b[0;31m#Fit linear regression model and return RSS and R squared values\u001b[0m\u001b[0;34m\u001b[0m\u001b[0;34m\u001b[0m\u001b[0;34m\u001b[0m\u001b[0m\n\u001b[1;32m      3\u001b[0m     \u001b[0mmodel_k\u001b[0m \u001b[0;34m=\u001b[0m \u001b[0mlinear_model\u001b[0m\u001b[0;34m.\u001b[0m\u001b[0mLinearRegression\u001b[0m\u001b[0;34m(\u001b[0m\u001b[0mfit_intercept\u001b[0m \u001b[0;34m=\u001b[0m \u001b[0;32mTrue\u001b[0m\u001b[0;34m)\u001b[0m\u001b[0;34m\u001b[0m\u001b[0;34m\u001b[0m\u001b[0m\n\u001b[0;32m----> 4\u001b[0;31m     \u001b[0mmodel_k\u001b[0m\u001b[0;34m.\u001b[0m\u001b[0mfit\u001b[0m\u001b[0;34m(\u001b[0m\u001b[0mX\u001b[0m\u001b[0;34m,\u001b[0m\u001b[0mY\u001b[0m\u001b[0;34m)\u001b[0m\u001b[0;34m\u001b[0m\u001b[0;34m\u001b[0m\u001b[0m\n\u001b[0m\u001b[1;32m      5\u001b[0m     \u001b[0mRSS\u001b[0m \u001b[0;34m=\u001b[0m \u001b[0mmean_squared_error\u001b[0m\u001b[0;34m(\u001b[0m\u001b[0mY\u001b[0m\u001b[0;34m,\u001b[0m\u001b[0mmodel_k\u001b[0m\u001b[0;34m.\u001b[0m\u001b[0mpredict\u001b[0m\u001b[0;34m(\u001b[0m\u001b[0mX\u001b[0m\u001b[0;34m)\u001b[0m\u001b[0;34m)\u001b[0m \u001b[0;34m*\u001b[0m \u001b[0mlen\u001b[0m\u001b[0;34m(\u001b[0m\u001b[0mY\u001b[0m\u001b[0;34m)\u001b[0m \u001b[0;31m# RSS = Residual Sum of Squares --> absolute amount of variance (residue) not explained by the regression model.\u001b[0m\u001b[0;34m\u001b[0m\u001b[0;34m\u001b[0m\u001b[0m\n\u001b[1;32m      6\u001b[0m     \u001b[0mR_squared\u001b[0m \u001b[0;34m=\u001b[0m \u001b[0mmodel_k\u001b[0m\u001b[0;34m.\u001b[0m\u001b[0mscore\u001b[0m\u001b[0;34m(\u001b[0m\u001b[0mX\u001b[0m\u001b[0;34m,\u001b[0m\u001b[0mY\u001b[0m\u001b[0;34m)\u001b[0m \u001b[0;31m# R_Squared = the absoute amount of variation as a proportion of total variation.\u001b[0m\u001b[0;34m\u001b[0m\u001b[0;34m\u001b[0m\u001b[0m\n",
            "\u001b[0;32m/usr/local/lib/python3.7/dist-packages/sklearn/linear_model/_base.py\u001b[0m in \u001b[0;36mfit\u001b[0;34m(self, X, y, sample_weight)\u001b[0m\n\u001b[1;32m    661\u001b[0m \u001b[0;34m\u001b[0m\u001b[0m\n\u001b[1;32m    662\u001b[0m         X, y = self._validate_data(\n\u001b[0;32m--> 663\u001b[0;31m             \u001b[0mX\u001b[0m\u001b[0;34m,\u001b[0m \u001b[0my\u001b[0m\u001b[0;34m,\u001b[0m \u001b[0maccept_sparse\u001b[0m\u001b[0;34m=\u001b[0m\u001b[0maccept_sparse\u001b[0m\u001b[0;34m,\u001b[0m \u001b[0my_numeric\u001b[0m\u001b[0;34m=\u001b[0m\u001b[0;32mTrue\u001b[0m\u001b[0;34m,\u001b[0m \u001b[0mmulti_output\u001b[0m\u001b[0;34m=\u001b[0m\u001b[0;32mTrue\u001b[0m\u001b[0;34m\u001b[0m\u001b[0;34m\u001b[0m\u001b[0m\n\u001b[0m\u001b[1;32m    664\u001b[0m         )\n\u001b[1;32m    665\u001b[0m \u001b[0;34m\u001b[0m\u001b[0m\n",
            "\u001b[0;32m/usr/local/lib/python3.7/dist-packages/sklearn/base.py\u001b[0m in \u001b[0;36m_validate_data\u001b[0;34m(self, X, y, reset, validate_separately, **check_params)\u001b[0m\n\u001b[1;32m    579\u001b[0m                 \u001b[0my\u001b[0m \u001b[0;34m=\u001b[0m \u001b[0mcheck_array\u001b[0m\u001b[0;34m(\u001b[0m\u001b[0my\u001b[0m\u001b[0;34m,\u001b[0m \u001b[0;34m**\u001b[0m\u001b[0mcheck_y_params\u001b[0m\u001b[0;34m)\u001b[0m\u001b[0;34m\u001b[0m\u001b[0;34m\u001b[0m\u001b[0m\n\u001b[1;32m    580\u001b[0m             \u001b[0;32melse\u001b[0m\u001b[0;34m:\u001b[0m\u001b[0;34m\u001b[0m\u001b[0;34m\u001b[0m\u001b[0m\n\u001b[0;32m--> 581\u001b[0;31m                 \u001b[0mX\u001b[0m\u001b[0;34m,\u001b[0m \u001b[0my\u001b[0m \u001b[0;34m=\u001b[0m \u001b[0mcheck_X_y\u001b[0m\u001b[0;34m(\u001b[0m\u001b[0mX\u001b[0m\u001b[0;34m,\u001b[0m \u001b[0my\u001b[0m\u001b[0;34m,\u001b[0m \u001b[0;34m**\u001b[0m\u001b[0mcheck_params\u001b[0m\u001b[0;34m)\u001b[0m\u001b[0;34m\u001b[0m\u001b[0;34m\u001b[0m\u001b[0m\n\u001b[0m\u001b[1;32m    582\u001b[0m             \u001b[0mout\u001b[0m \u001b[0;34m=\u001b[0m \u001b[0mX\u001b[0m\u001b[0;34m,\u001b[0m \u001b[0my\u001b[0m\u001b[0;34m\u001b[0m\u001b[0;34m\u001b[0m\u001b[0m\n\u001b[1;32m    583\u001b[0m \u001b[0;34m\u001b[0m\u001b[0m\n",
            "\u001b[0;32m/usr/local/lib/python3.7/dist-packages/sklearn/utils/validation.py\u001b[0m in \u001b[0;36mcheck_X_y\u001b[0;34m(X, y, accept_sparse, accept_large_sparse, dtype, order, copy, force_all_finite, ensure_2d, allow_nd, multi_output, ensure_min_samples, ensure_min_features, y_numeric, estimator)\u001b[0m\n\u001b[1;32m    974\u001b[0m         \u001b[0mensure_min_samples\u001b[0m\u001b[0;34m=\u001b[0m\u001b[0mensure_min_samples\u001b[0m\u001b[0;34m,\u001b[0m\u001b[0;34m\u001b[0m\u001b[0;34m\u001b[0m\u001b[0m\n\u001b[1;32m    975\u001b[0m         \u001b[0mensure_min_features\u001b[0m\u001b[0;34m=\u001b[0m\u001b[0mensure_min_features\u001b[0m\u001b[0;34m,\u001b[0m\u001b[0;34m\u001b[0m\u001b[0;34m\u001b[0m\u001b[0m\n\u001b[0;32m--> 976\u001b[0;31m         \u001b[0mestimator\u001b[0m\u001b[0;34m=\u001b[0m\u001b[0mestimator\u001b[0m\u001b[0;34m,\u001b[0m\u001b[0;34m\u001b[0m\u001b[0;34m\u001b[0m\u001b[0m\n\u001b[0m\u001b[1;32m    977\u001b[0m     )\n\u001b[1;32m    978\u001b[0m \u001b[0;34m\u001b[0m\u001b[0m\n",
            "\u001b[0;32m/usr/local/lib/python3.7/dist-packages/sklearn/utils/validation.py\u001b[0m in \u001b[0;36mcheck_array\u001b[0;34m(array, accept_sparse, accept_large_sparse, dtype, order, copy, force_all_finite, ensure_2d, allow_nd, ensure_min_samples, ensure_min_features, estimator)\u001b[0m\n\u001b[1;32m    621\u001b[0m             \u001b[0;32mfrom\u001b[0m \u001b[0mpandas\u001b[0m\u001b[0;34m.\u001b[0m\u001b[0mapi\u001b[0m\u001b[0;34m.\u001b[0m\u001b[0mtypes\u001b[0m \u001b[0;32mimport\u001b[0m \u001b[0mis_sparse\u001b[0m\u001b[0;34m\u001b[0m\u001b[0;34m\u001b[0m\u001b[0m\n\u001b[1;32m    622\u001b[0m \u001b[0;34m\u001b[0m\u001b[0m\n\u001b[0;32m--> 623\u001b[0;31m             \u001b[0;32mif\u001b[0m \u001b[0;32mnot\u001b[0m \u001b[0mhasattr\u001b[0m\u001b[0;34m(\u001b[0m\u001b[0marray\u001b[0m\u001b[0;34m,\u001b[0m \u001b[0;34m\"sparse\"\u001b[0m\u001b[0;34m)\u001b[0m \u001b[0;32mand\u001b[0m \u001b[0marray\u001b[0m\u001b[0;34m.\u001b[0m\u001b[0mdtypes\u001b[0m\u001b[0;34m.\u001b[0m\u001b[0mapply\u001b[0m\u001b[0;34m(\u001b[0m\u001b[0mis_sparse\u001b[0m\u001b[0;34m)\u001b[0m\u001b[0;34m.\u001b[0m\u001b[0many\u001b[0m\u001b[0;34m(\u001b[0m\u001b[0;34m)\u001b[0m\u001b[0;34m:\u001b[0m\u001b[0;34m\u001b[0m\u001b[0;34m\u001b[0m\u001b[0m\n\u001b[0m\u001b[1;32m    624\u001b[0m                 warnings.warn(\n\u001b[1;32m    625\u001b[0m                     \u001b[0;34m\"pandas.DataFrame with sparse columns found.\"\u001b[0m\u001b[0;34m\u001b[0m\u001b[0;34m\u001b[0m\u001b[0m\n",
            "\u001b[0;32m/usr/local/lib/python3.7/dist-packages/pandas/core/generic.py\u001b[0m in \u001b[0;36many\u001b[0;34m(self, axis, bool_only, skipna, level, **kwargs)\u001b[0m\n\u001b[1;32m  10529\u001b[0m         )\n\u001b[1;32m  10530\u001b[0m         \u001b[0;32mdef\u001b[0m \u001b[0many\u001b[0m\u001b[0;34m(\u001b[0m\u001b[0mself\u001b[0m\u001b[0;34m,\u001b[0m \u001b[0maxis\u001b[0m\u001b[0;34m=\u001b[0m\u001b[0;36m0\u001b[0m\u001b[0;34m,\u001b[0m \u001b[0mbool_only\u001b[0m\u001b[0;34m=\u001b[0m\u001b[0;32mNone\u001b[0m\u001b[0;34m,\u001b[0m \u001b[0mskipna\u001b[0m\u001b[0;34m=\u001b[0m\u001b[0;32mTrue\u001b[0m\u001b[0;34m,\u001b[0m \u001b[0mlevel\u001b[0m\u001b[0;34m=\u001b[0m\u001b[0;32mNone\u001b[0m\u001b[0;34m,\u001b[0m \u001b[0;34m**\u001b[0m\u001b[0mkwargs\u001b[0m\u001b[0;34m)\u001b[0m\u001b[0;34m:\u001b[0m\u001b[0;34m\u001b[0m\u001b[0;34m\u001b[0m\u001b[0m\n\u001b[0;32m> 10531\u001b[0;31m             \u001b[0;32mreturn\u001b[0m \u001b[0mNDFrame\u001b[0m\u001b[0;34m.\u001b[0m\u001b[0many\u001b[0m\u001b[0;34m(\u001b[0m\u001b[0mself\u001b[0m\u001b[0;34m,\u001b[0m \u001b[0maxis\u001b[0m\u001b[0;34m,\u001b[0m \u001b[0mbool_only\u001b[0m\u001b[0;34m,\u001b[0m \u001b[0mskipna\u001b[0m\u001b[0;34m,\u001b[0m \u001b[0mlevel\u001b[0m\u001b[0;34m,\u001b[0m \u001b[0;34m**\u001b[0m\u001b[0mkwargs\u001b[0m\u001b[0;34m)\u001b[0m\u001b[0;34m\u001b[0m\u001b[0;34m\u001b[0m\u001b[0m\n\u001b[0m\u001b[1;32m  10532\u001b[0m \u001b[0;34m\u001b[0m\u001b[0m\n\u001b[1;32m  10533\u001b[0m         \u001b[0msetattr\u001b[0m\u001b[0;34m(\u001b[0m\u001b[0mcls\u001b[0m\u001b[0;34m,\u001b[0m \u001b[0;34m\"any\"\u001b[0m\u001b[0;34m,\u001b[0m \u001b[0many\u001b[0m\u001b[0;34m)\u001b[0m\u001b[0;34m\u001b[0m\u001b[0;34m\u001b[0m\u001b[0m\n",
            "\u001b[0;32m/usr/local/lib/python3.7/dist-packages/pandas/core/generic.py\u001b[0m in \u001b[0;36many\u001b[0;34m(self, axis, bool_only, skipna, level, **kwargs)\u001b[0m\n\u001b[1;32m  10220\u001b[0m     \u001b[0;32mdef\u001b[0m \u001b[0many\u001b[0m\u001b[0;34m(\u001b[0m\u001b[0mself\u001b[0m\u001b[0;34m,\u001b[0m \u001b[0maxis\u001b[0m\u001b[0;34m=\u001b[0m\u001b[0;36m0\u001b[0m\u001b[0;34m,\u001b[0m \u001b[0mbool_only\u001b[0m\u001b[0;34m=\u001b[0m\u001b[0;32mNone\u001b[0m\u001b[0;34m,\u001b[0m \u001b[0mskipna\u001b[0m\u001b[0;34m=\u001b[0m\u001b[0;32mTrue\u001b[0m\u001b[0;34m,\u001b[0m \u001b[0mlevel\u001b[0m\u001b[0;34m=\u001b[0m\u001b[0;32mNone\u001b[0m\u001b[0;34m,\u001b[0m \u001b[0;34m**\u001b[0m\u001b[0mkwargs\u001b[0m\u001b[0;34m)\u001b[0m\u001b[0;34m:\u001b[0m\u001b[0;34m\u001b[0m\u001b[0;34m\u001b[0m\u001b[0m\n\u001b[1;32m  10221\u001b[0m         return self._logical_func(\n\u001b[0;32m> 10222\u001b[0;31m             \u001b[0;34m\"any\"\u001b[0m\u001b[0;34m,\u001b[0m \u001b[0mnanops\u001b[0m\u001b[0;34m.\u001b[0m\u001b[0mnanany\u001b[0m\u001b[0;34m,\u001b[0m \u001b[0maxis\u001b[0m\u001b[0;34m,\u001b[0m \u001b[0mbool_only\u001b[0m\u001b[0;34m,\u001b[0m \u001b[0mskipna\u001b[0m\u001b[0;34m,\u001b[0m \u001b[0mlevel\u001b[0m\u001b[0;34m,\u001b[0m \u001b[0;34m**\u001b[0m\u001b[0mkwargs\u001b[0m\u001b[0;34m\u001b[0m\u001b[0;34m\u001b[0m\u001b[0m\n\u001b[0m\u001b[1;32m  10223\u001b[0m         )\n\u001b[1;32m  10224\u001b[0m \u001b[0;34m\u001b[0m\u001b[0m\n",
            "\u001b[0;32m/usr/local/lib/python3.7/dist-packages/pandas/core/generic.py\u001b[0m in \u001b[0;36m_logical_func\u001b[0;34m(self, name, func, axis, bool_only, skipna, level, **kwargs)\u001b[0m\n\u001b[1;32m  10215\u001b[0m             \u001b[0mskipna\u001b[0m\u001b[0;34m=\u001b[0m\u001b[0mskipna\u001b[0m\u001b[0;34m,\u001b[0m\u001b[0;34m\u001b[0m\u001b[0;34m\u001b[0m\u001b[0m\n\u001b[1;32m  10216\u001b[0m             \u001b[0mnumeric_only\u001b[0m\u001b[0;34m=\u001b[0m\u001b[0mbool_only\u001b[0m\u001b[0;34m,\u001b[0m\u001b[0;34m\u001b[0m\u001b[0;34m\u001b[0m\u001b[0m\n\u001b[0;32m> 10217\u001b[0;31m             \u001b[0mfilter_type\u001b[0m\u001b[0;34m=\u001b[0m\u001b[0;34m\"bool\"\u001b[0m\u001b[0;34m,\u001b[0m\u001b[0;34m\u001b[0m\u001b[0;34m\u001b[0m\u001b[0m\n\u001b[0m\u001b[1;32m  10218\u001b[0m         )\n\u001b[1;32m  10219\u001b[0m \u001b[0;34m\u001b[0m\u001b[0m\n",
            "\u001b[0;32m/usr/local/lib/python3.7/dist-packages/pandas/core/series.py\u001b[0m in \u001b[0;36m_reduce\u001b[0;34m(self, op, name, axis, skipna, numeric_only, filter_type, **kwds)\u001b[0m\n\u001b[1;32m   4390\u001b[0m                 )\n\u001b[1;32m   4391\u001b[0m             \u001b[0;32mwith\u001b[0m \u001b[0mnp\u001b[0m\u001b[0;34m.\u001b[0m\u001b[0merrstate\u001b[0m\u001b[0;34m(\u001b[0m\u001b[0mall\u001b[0m\u001b[0;34m=\u001b[0m\u001b[0;34m\"ignore\"\u001b[0m\u001b[0;34m)\u001b[0m\u001b[0;34m:\u001b[0m\u001b[0;34m\u001b[0m\u001b[0;34m\u001b[0m\u001b[0m\n\u001b[0;32m-> 4392\u001b[0;31m                 \u001b[0;32mreturn\u001b[0m \u001b[0mop\u001b[0m\u001b[0;34m(\u001b[0m\u001b[0mdelegate\u001b[0m\u001b[0;34m,\u001b[0m \u001b[0mskipna\u001b[0m\u001b[0;34m=\u001b[0m\u001b[0mskipna\u001b[0m\u001b[0;34m,\u001b[0m \u001b[0;34m**\u001b[0m\u001b[0mkwds\u001b[0m\u001b[0;34m)\u001b[0m\u001b[0;34m\u001b[0m\u001b[0;34m\u001b[0m\u001b[0m\n\u001b[0m\u001b[1;32m   4393\u001b[0m \u001b[0;34m\u001b[0m\u001b[0m\n\u001b[1;32m   4394\u001b[0m     def _reindex_indexer(\n",
            "\u001b[0;32m/usr/local/lib/python3.7/dist-packages/pandas/core/nanops.py\u001b[0m in \u001b[0;36mnanany\u001b[0;34m(values, axis, skipna, mask)\u001b[0m\n\u001b[1;32m    487\u001b[0m     \u001b[0;32mFalse\u001b[0m\u001b[0;34m\u001b[0m\u001b[0;34m\u001b[0m\u001b[0m\n\u001b[1;32m    488\u001b[0m     \"\"\"\n\u001b[0;32m--> 489\u001b[0;31m     \u001b[0mvalues\u001b[0m\u001b[0;34m,\u001b[0m \u001b[0m_\u001b[0m\u001b[0;34m,\u001b[0m \u001b[0m_\u001b[0m\u001b[0;34m,\u001b[0m \u001b[0m_\u001b[0m\u001b[0;34m,\u001b[0m \u001b[0m_\u001b[0m \u001b[0;34m=\u001b[0m \u001b[0m_get_values\u001b[0m\u001b[0;34m(\u001b[0m\u001b[0mvalues\u001b[0m\u001b[0;34m,\u001b[0m \u001b[0mskipna\u001b[0m\u001b[0;34m,\u001b[0m \u001b[0mfill_value\u001b[0m\u001b[0;34m=\u001b[0m\u001b[0;32mFalse\u001b[0m\u001b[0;34m,\u001b[0m \u001b[0mmask\u001b[0m\u001b[0;34m=\u001b[0m\u001b[0mmask\u001b[0m\u001b[0;34m)\u001b[0m\u001b[0;34m\u001b[0m\u001b[0;34m\u001b[0m\u001b[0m\n\u001b[0m\u001b[1;32m    490\u001b[0m \u001b[0;34m\u001b[0m\u001b[0m\n\u001b[1;32m    491\u001b[0m     \u001b[0;31m# For object type, any won't necessarily return\u001b[0m\u001b[0;34m\u001b[0m\u001b[0;34m\u001b[0m\u001b[0;34m\u001b[0m\u001b[0m\n",
            "\u001b[0;32m/usr/local/lib/python3.7/dist-packages/pandas/core/nanops.py\u001b[0m in \u001b[0;36m_get_values\u001b[0;34m(values, skipna, fill_value, fill_value_typ, mask)\u001b[0m\n\u001b[1;32m    302\u001b[0m     \u001b[0;31m#  with scalar fill_value.  This guarantee is important for the\u001b[0m\u001b[0;34m\u001b[0m\u001b[0;34m\u001b[0m\u001b[0;34m\u001b[0m\u001b[0m\n\u001b[1;32m    303\u001b[0m     \u001b[0;31m#  np.where call below\u001b[0m\u001b[0;34m\u001b[0m\u001b[0;34m\u001b[0m\u001b[0;34m\u001b[0m\u001b[0m\n\u001b[0;32m--> 304\u001b[0;31m     \u001b[0;32massert\u001b[0m \u001b[0mis_scalar\u001b[0m\u001b[0;34m(\u001b[0m\u001b[0mfill_value\u001b[0m\u001b[0;34m)\u001b[0m\u001b[0;34m\u001b[0m\u001b[0;34m\u001b[0m\u001b[0m\n\u001b[0m\u001b[1;32m    305\u001b[0m     \u001b[0;31m# error: Incompatible types in assignment (expression has type \"Union[Any,\u001b[0m\u001b[0;34m\u001b[0m\u001b[0;34m\u001b[0m\u001b[0;34m\u001b[0m\u001b[0m\n\u001b[1;32m    306\u001b[0m     \u001b[0;31m# Union[ExtensionArray, ndarray]]\", variable has type \"ndarray\")\u001b[0m\u001b[0;34m\u001b[0m\u001b[0;34m\u001b[0m\u001b[0;34m\u001b[0m\u001b[0m\n",
            "\u001b[0;31mKeyboardInterrupt\u001b[0m: "
          ]
        }
      ],
      "source": [
        "#Importing tqdm for the progress bar\n",
        "from tqdm import tnrange, tqdm_notebook\n",
        "\n",
        "#Initialization variables\n",
        "Y = dummies[\"default \"] # default = y\n",
        "X = dummies.drop(columns = [\"default \"], axis = 1)\n",
        "k = 11 # what the hell is k???\n",
        "RSS_list, R_squared_list, feature_list = [],[], []\n",
        "numb_features = []\n",
        "\n",
        "#Looping over k = 1 to k = 11 features in X\n",
        "for k in tnrange(1,len(X.columns) + 1, desc = 'Loop...'): # X.culumns = 33 (after drop and dummies) + 1(end_range-1), desc=description??? (Have progress bar)\n",
        "\n",
        "    #Looping over all possible combinations: from 11 choose k\n",
        "    for combo in itertools.combinations(X.columns,k): # used to creation of iterators which helps us in efficient looping in terms of space as well as time.\n",
        "        tmp_result = fit_linear_reg(X[list(combo)],Y)   #Store temp result \n",
        "        RSS_list.append(tmp_result[0])                  #Append lists (Append each RSS per column into the list)\n",
        "        R_squared_list.append(tmp_result[1])            #Append lists (Append each R_squared per column into the list)\n",
        "        feature_list.append(combo) # combinations list per columns\n",
        "        numb_features.append(len(combo))   \n",
        "\n",
        "#Store in DataFrame\n",
        "BestModule = pd.DataFrame({'numb_features': numb_features,'RSS': RSS_list, 'R_squared':R_squared_list,'features':feature_list})"
      ]
    },
    {
      "cell_type": "markdown",
      "metadata": {
        "id": "MYbYBNWr215e"
      },
      "source": [
        "# Finding the best subsets for each number of features\n",
        "Using the smallest RSS value(predicted outcome with less error), or the largest R_squared value (largest percentage of variance)"
      ]
    },
    {
      "cell_type": "code",
      "execution_count": null,
      "metadata": {
        "id": "XUmgs2zb1PVb",
        "colab": {
          "base_uri": "https://localhost:8080/",
          "height": 226
        },
        "outputId": "98e7ca90-0f53-44bd-ecd0-3da7db5929ca"
      },
      "outputs": [
        {
          "output_type": "error",
          "ename": "NameError",
          "evalue": "ignored",
          "traceback": [
            "\u001b[0;31m---------------------------------------------------------------------------\u001b[0m",
            "\u001b[0;31mNameError\u001b[0m                                 Traceback (most recent call last)",
            "\u001b[0;32m<ipython-input-17-b06e87cf6998>\u001b[0m in \u001b[0;36m<module>\u001b[0;34m()\u001b[0m\n\u001b[0;32m----> 1\u001b[0;31m \u001b[0mBestModule_min\u001b[0m \u001b[0;34m=\u001b[0m \u001b[0mBestModule\u001b[0m\u001b[0;34m[\u001b[0m\u001b[0mBestModule\u001b[0m\u001b[0;34m.\u001b[0m\u001b[0mgroupby\u001b[0m\u001b[0;34m(\u001b[0m\u001b[0;34m'numb_features'\u001b[0m\u001b[0;34m)\u001b[0m\u001b[0;34m[\u001b[0m\u001b[0;34m'RSS'\u001b[0m\u001b[0;34m]\u001b[0m\u001b[0;34m.\u001b[0m\u001b[0mtransform\u001b[0m\u001b[0;34m(\u001b[0m\u001b[0mmin\u001b[0m\u001b[0;34m)\u001b[0m \u001b[0;34m==\u001b[0m \u001b[0mBestModule\u001b[0m\u001b[0;34m[\u001b[0m\u001b[0;34m'RSS'\u001b[0m\u001b[0;34m]\u001b[0m\u001b[0;34m]\u001b[0m \u001b[0;31m# get the minimum of column 'RSS' for each 'numb_features' group using transform\u001b[0m\u001b[0;34m\u001b[0m\u001b[0;34m\u001b[0m\u001b[0m\n\u001b[0m\u001b[1;32m      2\u001b[0m \u001b[0mBestModule_max\u001b[0m \u001b[0;34m=\u001b[0m \u001b[0mBestModule\u001b[0m\u001b[0;34m[\u001b[0m\u001b[0mBestModule\u001b[0m\u001b[0;34m.\u001b[0m\u001b[0mgroupby\u001b[0m\u001b[0;34m(\u001b[0m\u001b[0;34m'numb_features'\u001b[0m\u001b[0;34m)\u001b[0m\u001b[0;34m[\u001b[0m\u001b[0;34m'R_squared'\u001b[0m\u001b[0;34m]\u001b[0m\u001b[0;34m.\u001b[0m\u001b[0mtransform\u001b[0m\u001b[0;34m(\u001b[0m\u001b[0mmax\u001b[0m\u001b[0;34m)\u001b[0m \u001b[0;34m==\u001b[0m \u001b[0mBestModule\u001b[0m\u001b[0;34m[\u001b[0m\u001b[0;34m'R_squared'\u001b[0m\u001b[0;34m]\u001b[0m\u001b[0;34m]\u001b[0m\u001b[0;34m\u001b[0m\u001b[0;34m\u001b[0m\u001b[0m\n\u001b[1;32m      3\u001b[0m \u001b[0mdisplay\u001b[0m\u001b[0;34m(\u001b[0m\u001b[0mBestModule_min\u001b[0m\u001b[0;34m.\u001b[0m\u001b[0mhead\u001b[0m\u001b[0;34m(\u001b[0m\u001b[0;36m3\u001b[0m\u001b[0;34m)\u001b[0m\u001b[0;34m)\u001b[0m\u001b[0;34m\u001b[0m\u001b[0;34m\u001b[0m\u001b[0m\n\u001b[1;32m      4\u001b[0m \u001b[0mdisplay\u001b[0m\u001b[0;34m(\u001b[0m\u001b[0mBestModule_max\u001b[0m\u001b[0;34m.\u001b[0m\u001b[0mhead\u001b[0m\u001b[0;34m(\u001b[0m\u001b[0;36m3\u001b[0m\u001b[0;34m)\u001b[0m\u001b[0;34m)\u001b[0m\u001b[0;34m\u001b[0m\u001b[0;34m\u001b[0m\u001b[0m\n",
            "\u001b[0;31mNameError\u001b[0m: name 'BestModule' is not defined"
          ]
        }
      ],
      "source": [
        "BestModule_min = BestModule[BestModule.groupby('numb_features')['RSS'].transform(min) == BestModule['RSS']] # get the minimum of column 'RSS' for each 'numb_features' group using transform\n",
        "BestModule_max = BestModule[BestModule.groupby('numb_features')['R_squared'].transform(max) == BestModule['R_squared']]\n",
        "display(BestModule_min.head(3))\n",
        "display(BestModule_max.head(3))"
      ]
    },
    {
      "cell_type": "markdown",
      "metadata": {
        "id": "pODEjKvV25r-"
      },
      "source": [
        "# Adding columns to the dataframe with RSS and R squared values of the best subset"
      ]
    },
    {
      "cell_type": "code",
      "execution_count": null,
      "metadata": {
        "id": "FvVO4zQf2TkM"
      },
      "outputs": [],
      "source": [
        "BestModule['min_RSS'] = BestModule.groupby('numb_features')['RSS'].transform(min)\n",
        "BestModule['max_R_squared'] = BestModule.groupby('numb_features')['R_squared'].transform(max)\n",
        "BestModule.head() #returns the first 5 rows"
      ]
    },
    {
      "cell_type": "markdown",
      "metadata": {
        "id": "dTFyo2FT29Jh"
      },
      "source": [
        "# Plotting the best subset selection process"
      ]
    },
    {
      "cell_type": "code",
      "execution_count": null,
      "metadata": {
        "id": "svQdyE132Y9X",
        "colab": {
          "base_uri": "https://localhost:8080/",
          "height": 606
        },
        "outputId": "392b101c-4dec-45d9-a15c-9ebd43d7788a"
      },
      "outputs": [
        {
          "output_type": "error",
          "ename": "NameError",
          "evalue": "ignored",
          "traceback": [
            "\u001b[0;31m---------------------------------------------------------------------------\u001b[0m",
            "\u001b[0;31mNameError\u001b[0m                                 Traceback (most recent call last)",
            "\u001b[0;32m<ipython-input-20-c967dbdc2a1f>\u001b[0m in \u001b[0;36m<module>\u001b[0;34m()\u001b[0m\n\u001b[1;32m      2\u001b[0m \u001b[0max\u001b[0m \u001b[0;34m=\u001b[0m \u001b[0mfig\u001b[0m\u001b[0;34m.\u001b[0m\u001b[0madd_subplot\u001b[0m\u001b[0;34m(\u001b[0m\u001b[0;36m1\u001b[0m\u001b[0;34m,\u001b[0m \u001b[0;36m2\u001b[0m\u001b[0;34m,\u001b[0m \u001b[0;36m1\u001b[0m\u001b[0;34m)\u001b[0m\u001b[0;34m\u001b[0m\u001b[0;34m\u001b[0m\u001b[0m\n\u001b[1;32m      3\u001b[0m \u001b[0;34m\u001b[0m\u001b[0m\n\u001b[0;32m----> 4\u001b[0;31m \u001b[0max\u001b[0m\u001b[0;34m.\u001b[0m\u001b[0mscatter\u001b[0m\u001b[0;34m(\u001b[0m\u001b[0mBestModule\u001b[0m\u001b[0;34m.\u001b[0m\u001b[0mnumb_features\u001b[0m\u001b[0;34m,\u001b[0m\u001b[0mBestModule\u001b[0m\u001b[0;34m.\u001b[0m\u001b[0mRSS\u001b[0m\u001b[0;34m,\u001b[0m \u001b[0malpha\u001b[0m \u001b[0;34m=\u001b[0m \u001b[0;36m.2\u001b[0m\u001b[0;34m,\u001b[0m \u001b[0mcolor\u001b[0m \u001b[0;34m=\u001b[0m \u001b[0;34m'darkblue'\u001b[0m \u001b[0;34m)\u001b[0m\u001b[0;34m\u001b[0m\u001b[0;34m\u001b[0m\u001b[0m\n\u001b[0m\u001b[1;32m      5\u001b[0m \u001b[0max\u001b[0m\u001b[0;34m.\u001b[0m\u001b[0mset_xlabel\u001b[0m\u001b[0;34m(\u001b[0m\u001b[0;34m'# Features'\u001b[0m\u001b[0;34m)\u001b[0m\u001b[0;34m\u001b[0m\u001b[0;34m\u001b[0m\u001b[0m\n\u001b[1;32m      6\u001b[0m \u001b[0max\u001b[0m\u001b[0;34m.\u001b[0m\u001b[0mset_ylabel\u001b[0m\u001b[0;34m(\u001b[0m\u001b[0;34m'RSS'\u001b[0m\u001b[0;34m)\u001b[0m\u001b[0;34m\u001b[0m\u001b[0;34m\u001b[0m\u001b[0m\n",
            "\u001b[0;31mNameError\u001b[0m: name 'BestModule' is not defined"
          ]
        },
        {
          "output_type": "display_data",
          "data": {
            "text/plain": [
              "<Figure size 1152x432 with 1 Axes>"
            ],
            "image/png": "[encoded data removed]"
          },
          "metadata": {}
        }
      ],
      "source": [
        "fig = plt.figure(figsize = (16,6))\n",
        "ax = fig.add_subplot(1, 2, 1)\n",
        "\n",
        "ax.scatter(BestModule.numb_features,BestModule.RSS, alpha = .2, color = 'darkblue' )\n",
        "ax.set_xlabel('# Features')\n",
        "ax.set_ylabel('RSS')\n",
        "ax.set_title('RSS - Best subset selection')\n",
        "ax.plot(BestModule.numb_features,BestModule.min_RSS,color = 'r', label = 'Best subset')\n",
        "ax.legend()\n",
        "\n",
        "ax = fig.add_subplot(1, 2, 2)\n",
        "ax.scatter(BestModule.numb_features,BestModule.R_squared, alpha = .2, color = 'darkblue' )\n",
        "ax.plot(BestModule.numb_features,BestModule.max_R_squared,color = 'r', label = 'Best subset')\n",
        "ax.set_xlabel('# Features')\n",
        "ax.set_ylabel('R squared')\n",
        "ax.set_title('R_squared - Best subset selection')\n",
        "ax.legend()\n",
        "\n",
        "plt.show()"
      ]
    },
    {
      "cell_type": "markdown",
      "metadata": {
        "id": "sEccUmyFwmhv"
      },
      "source": [
        "# Forward stepwise selection\n",
        "Forward selection is a type of stepwise regression which begins with an empty model and adds in variables one by one."
      ]
    },
    {
      "cell_type": "code",
      "execution_count": null,
      "metadata": {
        "id": "CCEivfMwvzcB"
      },
      "outputs": [],
      "source": [
        "#Importing tqdm for the progress bar\n",
        "from tqdm import tnrange, tqdm_notebook\n",
        "\n",
        "#Initialization variables\n",
        "Y = dummies[\"default \"]\n",
        "X = dummies.drop(columns = [\"default \"], axis = 1)\n",
        "k = 32\n",
        "\n",
        "remaining_features = list(X.columns.values)\n",
        "features = []\n",
        "RSS_list, R_squared_list = [np.inf], [np.inf] #Due to 1 indexing of the loop...\n",
        "features_list = dict()\n",
        "\n",
        "for i in range(1,k+1):\n",
        "    best_RSS = np.inf\n",
        "    \n",
        "    for combo in itertools.combinations(remaining_features,1):\n",
        "\n",
        "            RSS = fit_linear_reg(X[list(combo) + features],Y)   #Store temp result \n",
        "\n",
        "            if RSS[0] < best_RSS:\n",
        "                best_RSS = RSS[0]\n",
        "                best_R_squared = RSS[1] \n",
        "                best_feature = combo[0]\n",
        "\n",
        "    #Updating variables for next loop\n",
        "    features.append(best_feature)\n",
        "    remaining_features.remove(best_feature)\n",
        "    \n",
        "    #Saving values for plotting\n",
        "    RSS_list.append(best_RSS)\n",
        "    R_squared_list.append(best_R_squared)\n",
        "    features_list[i] = features.copy()"
      ]
    },
    {
      "cell_type": "code",
      "execution_count": null,
      "metadata": {
        "id": "QMvLKGHQv5IZ",
        "colab": {
          "base_uri": "https://localhost:8080/",
          "height": 1000
        },
        "outputId": "4a76221e-882f-464f-847e-96df2a074d62"
      },
      "outputs": [
        {
          "output_type": "stream",
          "name": "stdout",
          "text": [
            "Forward stepwise subset selection\n",
            "Number of features | Features | RSS\n",
            "{1: ['PAY_0'], 2: ['PAY_0', 'BILL_AMT1'], 3: ['PAY_0', 'BILL_AMT1', 'PAY_2'], 4: ['PAY_0', 'BILL_AMT1', 'PAY_2', 'MARRIAGE_Married'], 5: ['PAY_0', 'BILL_AMT1', 'PAY_2', 'MARRIAGE_Married', 'PAY_3'], 6: ['PAY_0', 'BILL_AMT1', 'PAY_2', 'MARRIAGE_Married', 'PAY_3', 'PAY_AMT1'], 7: ['PAY_0', 'BILL_AMT1', 'PAY_2', 'MARRIAGE_Married', 'PAY_3', 'PAY_AMT1', 'EDUCATION_Unknown'], 8: ['PAY_0', 'BILL_AMT1', 'PAY_2', 'MARRIAGE_Married', 'PAY_3', 'PAY_AMT1', 'EDUCATION_Unknown', 'LIMIT_BAL'], 9: ['PAY_0', 'BILL_AMT1', 'PAY_2', 'MARRIAGE_Married', 'PAY_3', 'PAY_AMT1', 'EDUCATION_Unknown', 'LIMIT_BAL', 'AGE'], 10: ['PAY_0', 'BILL_AMT1', 'PAY_2', 'MARRIAGE_Married', 'PAY_3', 'PAY_AMT1', 'EDUCATION_Unknown', 'LIMIT_BAL', 'AGE', 'SEX_F'], 11: ['PAY_0', 'BILL_AMT1', 'PAY_2', 'MARRIAGE_Married', 'PAY_3', 'PAY_AMT1', 'EDUCATION_Unknown', 'LIMIT_BAL', 'AGE', 'SEX_F', 'EDUCATION_Graduate school'], 12: ['PAY_0', 'BILL_AMT1', 'PAY_2', 'MARRIAGE_Married', 'PAY_3', 'PAY_AMT1', 'EDUCATION_Unknown', 'LIMIT_BAL', 'AGE', 'SEX_F', 'EDUCATION_Graduate school', 'PAY_5'], 13: ['PAY_0', 'BILL_AMT1', 'PAY_2', 'MARRIAGE_Married', 'PAY_3', 'PAY_AMT1', 'EDUCATION_Unknown', 'LIMIT_BAL', 'AGE', 'SEX_F', 'EDUCATION_Graduate school', 'PAY_5', 'PAY_AMT2'], 14: ['PAY_0', 'BILL_AMT1', 'PAY_2', 'MARRIAGE_Married', 'PAY_3', 'PAY_AMT1', 'EDUCATION_Unknown', 'LIMIT_BAL', 'AGE', 'SEX_F', 'EDUCATION_Graduate school', 'PAY_5', 'PAY_AMT2', 'EDUCATION_Others'], 15: ['PAY_0', 'BILL_AMT1', 'PAY_2', 'MARRIAGE_Married', 'PAY_3', 'PAY_AMT1', 'EDUCATION_Unknown', 'LIMIT_BAL', 'AGE', 'SEX_F', 'EDUCATION_Graduate school', 'PAY_5', 'PAY_AMT2', 'EDUCATION_Others', 'MARRIAGE_0'], 16: ['PAY_0', 'BILL_AMT1', 'PAY_2', 'MARRIAGE_Married', 'PAY_3', 'PAY_AMT1', 'EDUCATION_Unknown', 'LIMIT_BAL', 'AGE', 'SEX_F', 'EDUCATION_Graduate school', 'PAY_5', 'PAY_AMT2', 'EDUCATION_Others', 'MARRIAGE_0', 'BILL_AMT2'], 17: ['PAY_0', 'BILL_AMT1', 'PAY_2', 'MARRIAGE_Married', 'PAY_3', 'PAY_AMT1', 'EDUCATION_Unknown', 'LIMIT_BAL', 'AGE', 'SEX_F', 'EDUCATION_Graduate school', 'PAY_5', 'PAY_AMT2', 'EDUCATION_Others', 'MARRIAGE_0', 'BILL_AMT2', 'PAY_AMT5'], 18: ['PAY_0', 'BILL_AMT1', 'PAY_2', 'MARRIAGE_Married', 'PAY_3', 'PAY_AMT1', 'EDUCATION_Unknown', 'LIMIT_BAL', 'AGE', 'SEX_F', 'EDUCATION_Graduate school', 'PAY_5', 'PAY_AMT2', 'EDUCATION_Others', 'MARRIAGE_0', 'BILL_AMT2', 'PAY_AMT5', 'PAY_AMT4'], 19: ['PAY_0', 'BILL_AMT1', 'PAY_2', 'MARRIAGE_Married', 'PAY_3', 'PAY_AMT1', 'EDUCATION_Unknown', 'LIMIT_BAL', 'AGE', 'SEX_F', 'EDUCATION_Graduate school', 'PAY_5', 'PAY_AMT2', 'EDUCATION_Others', 'MARRIAGE_0', 'BILL_AMT2', 'PAY_AMT5', 'PAY_AMT4', 'EDUCATION_0'], 20: ['PAY_0', 'BILL_AMT1', 'PAY_2', 'MARRIAGE_Married', 'PAY_3', 'PAY_AMT1', 'EDUCATION_Unknown', 'LIMIT_BAL', 'AGE', 'SEX_F', 'EDUCATION_Graduate school', 'PAY_5', 'PAY_AMT2', 'EDUCATION_Others', 'MARRIAGE_0', 'BILL_AMT2', 'PAY_AMT5', 'PAY_AMT4', 'EDUCATION_0', 'PAY_AMT6'], 21: ['PAY_0', 'BILL_AMT1', 'PAY_2', 'MARRIAGE_Married', 'PAY_3', 'PAY_AMT1', 'EDUCATION_Unknown', 'LIMIT_BAL', 'AGE', 'SEX_F', 'EDUCATION_Graduate school', 'PAY_5', 'PAY_AMT2', 'EDUCATION_Others', 'MARRIAGE_0', 'BILL_AMT2', 'PAY_AMT5', 'PAY_AMT4', 'EDUCATION_0', 'PAY_AMT6', 'PAY_4'], 22: ['PAY_0', 'BILL_AMT1', 'PAY_2', 'MARRIAGE_Married', 'PAY_3', 'PAY_AMT1', 'EDUCATION_Unknown', 'LIMIT_BAL', 'AGE', 'SEX_F', 'EDUCATION_Graduate school', 'PAY_5', 'PAY_AMT2', 'EDUCATION_Others', 'MARRIAGE_0', 'BILL_AMT2', 'PAY_AMT5', 'PAY_AMT4', 'EDUCATION_0', 'PAY_AMT6', 'PAY_4', 'BILL_AMT6'], 23: ['PAY_0', 'BILL_AMT1', 'PAY_2', 'MARRIAGE_Married', 'PAY_3', 'PAY_AMT1', 'EDUCATION_Unknown', 'LIMIT_BAL', 'AGE', 'SEX_F', 'EDUCATION_Graduate school', 'PAY_5', 'PAY_AMT2', 'EDUCATION_Others', 'MARRIAGE_0', 'BILL_AMT2', 'PAY_AMT5', 'PAY_AMT4', 'EDUCATION_0', 'PAY_AMT6', 'PAY_4', 'BILL_AMT6', 'MARRIAGE_Single'], 24: ['PAY_0', 'BILL_AMT1', 'PAY_2', 'MARRIAGE_Married', 'PAY_3', 'PAY_AMT1', 'EDUCATION_Unknown', 'LIMIT_BAL', 'AGE', 'SEX_F', 'EDUCATION_Graduate school', 'PAY_5', 'PAY_AMT2', 'EDUCATION_Others', 'MARRIAGE_0', 'BILL_AMT2', 'PAY_AMT5', 'PAY_AMT4', 'EDUCATION_0', 'PAY_AMT6', 'PAY_4', 'BILL_AMT6', 'MARRIAGE_Single', 'BILL_AMT4'], 25: ['PAY_0', 'BILL_AMT1', 'PAY_2', 'MARRIAGE_Married', 'PAY_3', 'PAY_AMT1', 'EDUCATION_Unknown', 'LIMIT_BAL', 'AGE', 'SEX_F', 'EDUCATION_Graduate school', 'PAY_5', 'PAY_AMT2', 'EDUCATION_Others', 'MARRIAGE_0', 'BILL_AMT2', 'PAY_AMT5', 'PAY_AMT4', 'EDUCATION_0', 'PAY_AMT6', 'PAY_4', 'BILL_AMT6', 'MARRIAGE_Single', 'BILL_AMT4', 'EDUCATION_High School'], 26: ['PAY_0', 'BILL_AMT1', 'PAY_2', 'MARRIAGE_Married', 'PAY_3', 'PAY_AMT1', 'EDUCATION_Unknown', 'LIMIT_BAL', 'AGE', 'SEX_F', 'EDUCATION_Graduate school', 'PAY_5', 'PAY_AMT2', 'EDUCATION_Others', 'MARRIAGE_0', 'BILL_AMT2', 'PAY_AMT5', 'PAY_AMT4', 'EDUCATION_0', 'PAY_AMT6', 'PAY_4', 'BILL_AMT6', 'MARRIAGE_Single', 'BILL_AMT4', 'EDUCATION_High School', 'BILL_AMT3'], 27: ['PAY_0', 'BILL_AMT1', 'PAY_2', 'MARRIAGE_Married', 'PAY_3', 'PAY_AMT1', 'EDUCATION_Unknown', 'LIMIT_BAL', 'AGE', 'SEX_F', 'EDUCATION_Graduate school', 'PAY_5', 'PAY_AMT2', 'EDUCATION_Others', 'MARRIAGE_0', 'BILL_AMT2', 'PAY_AMT5', 'PAY_AMT4', 'EDUCATION_0', 'PAY_AMT6', 'PAY_4', 'BILL_AMT6', 'MARRIAGE_Single', 'BILL_AMT4', 'EDUCATION_High School', 'BILL_AMT3', 'PAY_6'], 28: ['PAY_0', 'BILL_AMT1', 'PAY_2', 'MARRIAGE_Married', 'PAY_3', 'PAY_AMT1', 'EDUCATION_Unknown', 'LIMIT_BAL', 'AGE', 'SEX_F', 'EDUCATION_Graduate school', 'PAY_5', 'PAY_AMT2', 'EDUCATION_Others', 'MARRIAGE_0', 'BILL_AMT2', 'PAY_AMT5', 'PAY_AMT4', 'EDUCATION_0', 'PAY_AMT6', 'PAY_4', 'BILL_AMT6', 'MARRIAGE_Single', 'BILL_AMT4', 'EDUCATION_High School', 'BILL_AMT3', 'PAY_6', 'PAY_AMT3'], 29: ['PAY_0', 'BILL_AMT1', 'PAY_2', 'MARRIAGE_Married', 'PAY_3', 'PAY_AMT1', 'EDUCATION_Unknown', 'LIMIT_BAL', 'AGE', 'SEX_F', 'EDUCATION_Graduate school', 'PAY_5', 'PAY_AMT2', 'EDUCATION_Others', 'MARRIAGE_0', 'BILL_AMT2', 'PAY_AMT5', 'PAY_AMT4', 'EDUCATION_0', 'PAY_AMT6', 'PAY_4', 'BILL_AMT6', 'MARRIAGE_Single', 'BILL_AMT4', 'EDUCATION_High School', 'BILL_AMT3', 'PAY_6', 'PAY_AMT3', 'BILL_AMT5'], 30: ['PAY_0', 'BILL_AMT1', 'PAY_2', 'MARRIAGE_Married', 'PAY_3', 'PAY_AMT1', 'EDUCATION_Unknown', 'LIMIT_BAL', 'AGE', 'SEX_F', 'EDUCATION_Graduate school', 'PAY_5', 'PAY_AMT2', 'EDUCATION_Others', 'MARRIAGE_0', 'BILL_AMT2', 'PAY_AMT5', 'PAY_AMT4', 'EDUCATION_0', 'PAY_AMT6', 'PAY_4', 'BILL_AMT6', 'MARRIAGE_Single', 'BILL_AMT4', 'EDUCATION_High School', 'BILL_AMT3', 'PAY_6', 'PAY_AMT3', 'BILL_AMT5', 'EDUCATION_University'], 31: ['PAY_0', 'BILL_AMT1', 'PAY_2', 'MARRIAGE_Married', 'PAY_3', 'PAY_AMT1', 'EDUCATION_Unknown', 'LIMIT_BAL', 'AGE', 'SEX_F', 'EDUCATION_Graduate school', 'PAY_5', 'PAY_AMT2', 'EDUCATION_Others', 'MARRIAGE_0', 'BILL_AMT2', 'PAY_AMT5', 'PAY_AMT4', 'EDUCATION_0', 'PAY_AMT6', 'PAY_4', 'BILL_AMT6', 'MARRIAGE_Single', 'BILL_AMT4', 'EDUCATION_High School', 'BILL_AMT3', 'PAY_6', 'PAY_AMT3', 'BILL_AMT5', 'EDUCATION_University', 'SEX_M'], 32: ['PAY_0', 'BILL_AMT1', 'PAY_2', 'MARRIAGE_Married', 'PAY_3', 'PAY_AMT1', 'EDUCATION_Unknown', 'LIMIT_BAL', 'AGE', 'SEX_F', 'EDUCATION_Graduate school', 'PAY_5', 'PAY_AMT2', 'EDUCATION_Others', 'MARRIAGE_0', 'BILL_AMT2', 'PAY_AMT5', 'PAY_AMT4', 'EDUCATION_0', 'PAY_AMT6', 'PAY_4', 'BILL_AMT6', 'MARRIAGE_Single', 'BILL_AMT4', 'EDUCATION_High School', 'BILL_AMT3', 'PAY_6', 'PAY_AMT3', 'BILL_AMT5', 'EDUCATION_University', 'SEX_M', 'MARRIAGE_Other']}\n",
            "[inf, 4622.927166062022, 4588.305698955373, 4559.836646499082, 4551.992636179887, 4546.746688002136, 4540.93671299626, 4536.870818670379, 4534.304061062377, 4531.5816212262625, 4529.909567384006, 4528.51000107191, 4527.21658816175, 4526.251098627525, 4525.4898062840575, 4524.802123151428, 4524.18306931056, 4523.643687717912, 4523.3102576818455, 4522.986803241397, 4522.860080254361, 4522.745386227376, 4522.661000950102, 4522.583430893939, 4522.531868204755, 4522.506097023408, 4522.49208627076, 4522.487697031187, 4522.485967292308, 4522.485354697148, 4522.485368904816, 4522.485503813471, 4522.485556976748]\n",
            "[4623, 4588, 4560, 4552, 4547, 4541, 4537, 4534, 4532, 4530, 4529, 4527, 4526, 4525, 4525, 4524, 4524, 4523, 4523, 4523, 4523, 4523, 4523, 4523, 4523, 4522, 4522, 4522, 4522, 4522, 4522, 4522]\n",
            "4522\n",
            "[26, 27, 28, 29, 30, 31, 32]\n"
          ]
        },
        {
          "output_type": "display_data",
          "data": {
            "text/plain": [
              "[['PAY_0',\n",
              "  'BILL_AMT1',\n",
              "  'PAY_2',\n",
              "  'MARRIAGE_Married',\n",
              "  'PAY_3',\n",
              "  'PAY_AMT1',\n",
              "  'EDUCATION_Unknown',\n",
              "  'LIMIT_BAL',\n",
              "  'AGE',\n",
              "  'SEX_F',\n",
              "  'EDUCATION_Graduate school',\n",
              "  'PAY_5',\n",
              "  'PAY_AMT2',\n",
              "  'EDUCATION_Others',\n",
              "  'MARRIAGE_0',\n",
              "  'BILL_AMT2',\n",
              "  'PAY_AMT5',\n",
              "  'PAY_AMT4',\n",
              "  'EDUCATION_0',\n",
              "  'PAY_AMT6',\n",
              "  'PAY_4',\n",
              "  'BILL_AMT6',\n",
              "  'MARRIAGE_Single',\n",
              "  'BILL_AMT4',\n",
              "  'EDUCATION_High School',\n",
              "  'BILL_AMT3'],\n",
              " ['PAY_0',\n",
              "  'BILL_AMT1',\n",
              "  'PAY_2',\n",
              "  'MARRIAGE_Married',\n",
              "  'PAY_3',\n",
              "  'PAY_AMT1',\n",
              "  'EDUCATION_Unknown',\n",
              "  'LIMIT_BAL',\n",
              "  'AGE',\n",
              "  'SEX_F',\n",
              "  'EDUCATION_Graduate school',\n",
              "  'PAY_5',\n",
              "  'PAY_AMT2',\n",
              "  'EDUCATION_Others',\n",
              "  'MARRIAGE_0',\n",
              "  'BILL_AMT2',\n",
              "  'PAY_AMT5',\n",
              "  'PAY_AMT4',\n",
              "  'EDUCATION_0',\n",
              "  'PAY_AMT6',\n",
              "  'PAY_4',\n",
              "  'BILL_AMT6',\n",
              "  'MARRIAGE_Single',\n",
              "  'BILL_AMT4',\n",
              "  'EDUCATION_High School',\n",
              "  'BILL_AMT3',\n",
              "  'PAY_6'],\n",
              " ['PAY_0',\n",
              "  'BILL_AMT1',\n",
              "  'PAY_2',\n",
              "  'MARRIAGE_Married',\n",
              "  'PAY_3',\n",
              "  'PAY_AMT1',\n",
              "  'EDUCATION_Unknown',\n",
              "  'LIMIT_BAL',\n",
              "  'AGE',\n",
              "  'SEX_F',\n",
              "  'EDUCATION_Graduate school',\n",
              "  'PAY_5',\n",
              "  'PAY_AMT2',\n",
              "  'EDUCATION_Others',\n",
              "  'MARRIAGE_0',\n",
              "  'BILL_AMT2',\n",
              "  'PAY_AMT5',\n",
              "  'PAY_AMT4',\n",
              "  'EDUCATION_0',\n",
              "  'PAY_AMT6',\n",
              "  'PAY_4',\n",
              "  'BILL_AMT6',\n",
              "  'MARRIAGE_Single',\n",
              "  'BILL_AMT4',\n",
              "  'EDUCATION_High School',\n",
              "  'BILL_AMT3',\n",
              "  'PAY_6',\n",
              "  'PAY_AMT3'],\n",
              " ['PAY_0',\n",
              "  'BILL_AMT1',\n",
              "  'PAY_2',\n",
              "  'MARRIAGE_Married',\n",
              "  'PAY_3',\n",
              "  'PAY_AMT1',\n",
              "  'EDUCATION_Unknown',\n",
              "  'LIMIT_BAL',\n",
              "  'AGE',\n",
              "  'SEX_F',\n",
              "  'EDUCATION_Graduate school',\n",
              "  'PAY_5',\n",
              "  'PAY_AMT2',\n",
              "  'EDUCATION_Others',\n",
              "  'MARRIAGE_0',\n",
              "  'BILL_AMT2',\n",
              "  'PAY_AMT5',\n",
              "  'PAY_AMT4',\n",
              "  'EDUCATION_0',\n",
              "  'PAY_AMT6',\n",
              "  'PAY_4',\n",
              "  'BILL_AMT6',\n",
              "  'MARRIAGE_Single',\n",
              "  'BILL_AMT4',\n",
              "  'EDUCATION_High School',\n",
              "  'BILL_AMT3',\n",
              "  'PAY_6',\n",
              "  'PAY_AMT3',\n",
              "  'BILL_AMT5'],\n",
              " ['PAY_0',\n",
              "  'BILL_AMT1',\n",
              "  'PAY_2',\n",
              "  'MARRIAGE_Married',\n",
              "  'PAY_3',\n",
              "  'PAY_AMT1',\n",
              "  'EDUCATION_Unknown',\n",
              "  'LIMIT_BAL',\n",
              "  'AGE',\n",
              "  'SEX_F',\n",
              "  'EDUCATION_Graduate school',\n",
              "  'PAY_5',\n",
              "  'PAY_AMT2',\n",
              "  'EDUCATION_Others',\n",
              "  'MARRIAGE_0',\n",
              "  'BILL_AMT2',\n",
              "  'PAY_AMT5',\n",
              "  'PAY_AMT4',\n",
              "  'EDUCATION_0',\n",
              "  'PAY_AMT6',\n",
              "  'PAY_4',\n",
              "  'BILL_AMT6',\n",
              "  'MARRIAGE_Single',\n",
              "  'BILL_AMT4',\n",
              "  'EDUCATION_High School',\n",
              "  'BILL_AMT3',\n",
              "  'PAY_6',\n",
              "  'PAY_AMT3',\n",
              "  'BILL_AMT5',\n",
              "  'EDUCATION_University'],\n",
              " ['PAY_0',\n",
              "  'BILL_AMT1',\n",
              "  'PAY_2',\n",
              "  'MARRIAGE_Married',\n",
              "  'PAY_3',\n",
              "  'PAY_AMT1',\n",
              "  'EDUCATION_Unknown',\n",
              "  'LIMIT_BAL',\n",
              "  'AGE',\n",
              "  'SEX_F',\n",
              "  'EDUCATION_Graduate school',\n",
              "  'PAY_5',\n",
              "  'PAY_AMT2',\n",
              "  'EDUCATION_Others',\n",
              "  'MARRIAGE_0',\n",
              "  'BILL_AMT2',\n",
              "  'PAY_AMT5',\n",
              "  'PAY_AMT4',\n",
              "  'EDUCATION_0',\n",
              "  'PAY_AMT6',\n",
              "  'PAY_4',\n",
              "  'BILL_AMT6',\n",
              "  'MARRIAGE_Single',\n",
              "  'BILL_AMT4',\n",
              "  'EDUCATION_High School',\n",
              "  'BILL_AMT3',\n",
              "  'PAY_6',\n",
              "  'PAY_AMT3',\n",
              "  'BILL_AMT5',\n",
              "  'EDUCATION_University',\n",
              "  'SEX_M'],\n",
              " ['PAY_0',\n",
              "  'BILL_AMT1',\n",
              "  'PAY_2',\n",
              "  'MARRIAGE_Married',\n",
              "  'PAY_3',\n",
              "  'PAY_AMT1',\n",
              "  'EDUCATION_Unknown',\n",
              "  'LIMIT_BAL',\n",
              "  'AGE',\n",
              "  'SEX_F',\n",
              "  'EDUCATION_Graduate school',\n",
              "  'PAY_5',\n",
              "  'PAY_AMT2',\n",
              "  'EDUCATION_Others',\n",
              "  'MARRIAGE_0',\n",
              "  'BILL_AMT2',\n",
              "  'PAY_AMT5',\n",
              "  'PAY_AMT4',\n",
              "  'EDUCATION_0',\n",
              "  'PAY_AMT6',\n",
              "  'PAY_4',\n",
              "  'BILL_AMT6',\n",
              "  'MARRIAGE_Single',\n",
              "  'BILL_AMT4',\n",
              "  'EDUCATION_High School',\n",
              "  'BILL_AMT3',\n",
              "  'PAY_6',\n",
              "  'PAY_AMT3',\n",
              "  'BILL_AMT5',\n",
              "  'EDUCATION_University',\n",
              "  'SEX_M',\n",
              "  'MARRIAGE_Other']]"
            ]
          },
          "metadata": {}
        }
      ],
      "source": [
        "print('Forward stepwise subset selection')\n",
        "print('Number of features |', 'Features |', 'RSS')\n",
        "# display([(i,features_list[i], round(RSS_list[i])) for i in range(1,33)])\n",
        "print(features_list)\n",
        "print(RSS_list)\n",
        "\n",
        "# create rounded list of RSS\n",
        "rounded_RSS_list = []\n",
        "for j in range(1,33):\n",
        "    rounded_RSS_list.append(round(RSS_list[j]))\n",
        "print(rounded_RSS_list)\n",
        "\n",
        "rounded_RSS_min = min(rounded_RSS_list)\n",
        "print(rounded_RSS_min)\n",
        "\n",
        "min_RSS_list = []\n",
        "for k in range(0, len(rounded_RSS_list)): # len(rounded_RSS_list) = 32\n",
        "    if rounded_RSS_list[k] == rounded_RSS_min:\n",
        "        min_RSS_list.append(k+1) # rounded_RSS_list starts at index 0 instad of index 1\n",
        "print(min_RSS_list)\n",
        "\n",
        "display([features_list[l] for l in min_RSS_list]) # min_RSS_list = [26, 27, 28, 29, 30, 31, 32]"
      ]
    },
    {
      "cell_type": "markdown",
      "metadata": {
        "id": "hqKt7iaF9xHN"
      },
      "source": [
        "# Our model should be\n",
        "26 - 32 model with same RSS value(4522)\n",
        "\n",
        "Those 6 variables are\n",
        "'PAY_AMT3',\n",
        "'BILL_AMT5',\n",
        "'EDUCATION_University',\n",
        "'SEX_M',\n",
        "'MARRIAGE_Other'\n",
        "\n",
        "We are going to use the full model\n"
      ]
    },
    {
      "cell_type": "markdown",
      "metadata": {
        "id": "oQQsBeqoNb7M"
      },
      "source": [
        "# Model set up"
      ]
    },
    {
      "cell_type": "code",
      "execution_count": null,
      "metadata": {
        "id": "F6fkyD1scaw5"
      },
      "outputs": [],
      "source": [
        "features_dummies = dummies.drop(columns = [\"default \"], axis = 1)\n",
        "outcomes_dummies = dummies[\"default \"]"
      ]
    },
    {
      "cell_type": "code",
      "execution_count": null,
      "metadata": {
        "id": "oYrnAtsLcDzR"
      },
      "outputs": [],
      "source": [
        "from sklearn.model_selection import train_test_split\n",
        "X_train, X_test, y_train, y_test = train_test_split(features_dummies, outcomes_dummies, test_size=0.2, random_state=42)\n",
        "X_train, X_val, y_train, y_val = train_test_split(X_train,y_train, test_size = 0.2, random_state = 42 ) "
      ]
    },
    {
      "cell_type": "markdown",
      "metadata": {
        "id": "ZDAI4uqYJx6z"
      },
      "source": [
        "# Split the data into Training and Testing"
      ]
    },
    {
      "cell_type": "code",
      "execution_count": null,
      "metadata": {
        "id": "6YooRDAGJ_d2",
        "colab": {
          "base_uri": "https://localhost:8080/"
        },
        "outputId": "09a27717-e718-4f69-d90f-ebce71dbaab0"
      },
      "outputs": [
        {
          "output_type": "stream",
          "name": "stdout",
          "text": [
            "       LIMIT_BAL  AGE  PAY_0  PAY_2  PAY_3  PAY_4  PAY_5  PAY_6  BILL_AMT1  \\\n",
            "9922       60000   38      2      2      2      0      0      0      59310   \n",
            "2156      290000   25      0      0      0      0      0      0     305823   \n",
            "162       290000   47     -1     -1     -1     -1      0     -1       1234   \n",
            "1463      300000   50     -1     -1     -1      0      0      0       8924   \n",
            "5624      210000   33      0      0      0      0      0      0     206409   \n",
            "7988      200000   27     -2     -2     -2     -2     -2     -2        264   \n",
            "29008     190000   40      0      0      0      0      0      0     124082   \n",
            "16709     170000   39      0      0      0      0      0      0     138811   \n",
            "23475     140000   31     -2     -2     -2     -2     -2     -2       1399   \n",
            "22013      40000   27     -1      0      0     -1     -1      0      27025   \n",
            "\n",
            "       BILL_AMT2  ...  EDUCATION_0  EDUCATION_Graduate school  \\\n",
            "9922       60482  ...            0                          1   \n",
            "2156      303701  ...            0                          1   \n",
            "162          396  ...            0                          0   \n",
            "1463        3131  ...            0                          0   \n",
            "5624      198390  ...            0                          0   \n",
            "7988         264  ...            0                          0   \n",
            "29008     125032  ...            0                          0   \n",
            "16709     136227  ...            0                          1   \n",
            "23475       1519  ...            0                          1   \n",
            "22013      32228  ...            0                          1   \n",
            "\n",
            "       EDUCATION_High School  EDUCATION_Others  EDUCATION_University  \\\n",
            "9922                       0                 0                     0   \n",
            "2156                       0                 0                     0   \n",
            "162                        1                 0                     0   \n",
            "1463                       0                 0                     1   \n",
            "5624                       0                 0                     1   \n",
            "7988                       0                 0                     1   \n",
            "29008                      0                 0                     1   \n",
            "16709                      0                 0                     0   \n",
            "23475                      0                 0                     0   \n",
            "22013                      0                 0                     0   \n",
            "\n",
            "       EDUCATION_Unknown  MARRIAGE_0  MARRIAGE_Married  MARRIAGE_Other  \\\n",
            "9922                   0           0                 1               0   \n",
            "2156                   0           0                 0               0   \n",
            "162                    0           0                 1               0   \n",
            "1463                   0           0                 1               0   \n",
            "5624                   0           0                 1               0   \n",
            "7988                   0           0                 0               0   \n",
            "29008                  0           0                 1               0   \n",
            "16709                  0           0                 0               0   \n",
            "23475                  0           0                 0               0   \n",
            "22013                  0           0                 0               0   \n",
            "\n",
            "       MARRIAGE_Single  \n",
            "9922                 0  \n",
            "2156                 1  \n",
            "162                  0  \n",
            "1463                 0  \n",
            "5624                 0  \n",
            "7988                 1  \n",
            "29008                0  \n",
            "16709                1  \n",
            "23475                1  \n",
            "22013                1  \n",
            "\n",
            "[10 rows x 32 columns]\n",
            "9922     0\n",
            "2156     1\n",
            "162      0\n",
            "1463     0\n",
            "5624     0\n",
            "7988     0\n",
            "29008    0\n",
            "16709    0\n",
            "23475    0\n",
            "22013    1\n",
            "Name: default , dtype: int64\n"
          ]
        }
      ],
      "source": [
        "features = X_train\n",
        "targets = y_train\n",
        "features_test = X_test\n",
        "targets_test = y_test\n",
        "\n",
        "print(features[:10])\n",
        "print(targets[:10])"
      ]
    },
    {
      "cell_type": "markdown",
      "metadata": {
        "id": "ey8jZBRTLaA5"
      },
      "source": [
        "# Train the 2-layer Neural Network\n",
        "The following function trains the 2-layer neural network. First, we'll write some useful functions."
      ]
    },
    {
      "cell_type": "code",
      "execution_count": null,
      "metadata": {
        "id": "XI9Nefg2Lbgk"
      },
      "outputs": [],
      "source": [
        "# Activation (sigmoid) function\n",
        "def sigmoid(x):\n",
        "    return 1 / (1 + np.exp(-x))\n",
        "def sigmoid_prime(x):\n",
        "    return sigmoid(x) * (1-sigmoid(x))\n",
        "def error_formula(y, output):\n",
        "    return - y*np.log(output) - (1 - y) * np.log(1-output)"
      ]
    },
    {
      "cell_type": "code",
      "execution_count": null,
      "metadata": {
        "id": "ToEoAK30LdW5"
      },
      "outputs": [],
      "source": [
        "# The error term formula\n",
        "def error_term_formula(x, y, output):\n",
        "    return (y - output)*(sigmoid_prime(x))"
      ]
    },
    {
      "cell_type": "code",
      "execution_count": null,
      "metadata": {
        "id": "CJ15qAcgLfO6",
        "colab": {
          "base_uri": "https://localhost:8080/"
        },
        "outputId": "e5278c31-9d04-4a81-f7fa-dc45bbd2e994"
      },
      "outputs": [
        {
          "output_type": "stream",
          "name": "stdout",
          "text": [
            "Epoch: 0\n",
            "Train loss:  0.472254635013642\n",
            "=========\n",
            "Epoch: 100\n",
            "Train loss:  0.496051266623292   WARNING - Loss Increasing\n",
            "=========\n",
            "Epoch: 200\n",
            "Train loss:  0.52707868325027   WARNING - Loss Increasing\n",
            "=========\n",
            "Epoch: 300\n",
            "Train loss:  0.5893607281960692   WARNING - Loss Increasing\n",
            "=========\n",
            "Epoch: 400\n",
            "Train loss:  0.6713334674604541   WARNING - Loss Increasing\n",
            "=========\n",
            "Epoch: 500\n",
            "Train loss:  0.7151327030082175   WARNING - Loss Increasing\n",
            "=========\n",
            "Epoch: 600\n",
            "Train loss:  0.7266074216338856   WARNING - Loss Increasing\n",
            "=========\n",
            "Epoch: 700\n",
            "Train loss:  0.7342020517295239   WARNING - Loss Increasing\n",
            "=========\n",
            "Epoch: 800\n",
            "Train loss:  0.7419793445170455   WARNING - Loss Increasing\n",
            "=========\n",
            "Epoch: 900\n",
            "Train loss:  0.7465614961203614   WARNING - Loss Increasing\n",
            "=========\n",
            "Finished training!\n"
          ]
        }
      ],
      "source": [
        "# Neural network hyperparameters\n",
        "epochs = 1000\n",
        "learnrate = 0.5\n",
        "\n",
        "# Training function\n",
        "def train_nn(features, targets, epochs, learnrate):\n",
        "    \n",
        "    # Use to same seed to make debugging easier\n",
        "    np.random.seed(42)\n",
        "\n",
        "    n_records, n_features = features.shape\n",
        "    last_loss = None\n",
        "\n",
        "    # Initialize weights\n",
        "    weights = np.random.normal(scale=1 / n_features**.5, size=n_features)\n",
        "\n",
        "    for e in range(epochs):\n",
        "        del_w = np.zeros(weights.shape)\n",
        "        for x, y in zip(features.values, targets):\n",
        "            # Loop through all records, x is the input, y is the target\n",
        "\n",
        "            # Activation of the output unit\n",
        "            #   Notice we multiply the inputs and the weights here \n",
        "            #   rather than storing h as a separate variable \n",
        "            output = sigmoid(np.dot(x, weights))\n",
        "\n",
        "            # The error, the target minus the network output\n",
        "            error = error_formula(y, output)\n",
        "\n",
        "            # The error term\n",
        "            #   Notice we calulate f'(h) here instead of defining a separate\n",
        "            #   sigmoid_prime function. This just makes it faster because we\n",
        "            #   can re-use the result of the sigmoid function stored in\n",
        "            #   the output variable\n",
        "            error_term = error_term_formula(x, y, output)\n",
        "\n",
        "            # The gradient descent step, the error times the gradient times the inputs\n",
        "            del_w += error_term * x\n",
        "\n",
        "        # Update the weights here. The learning rate times the \n",
        "        # change in weights, divided by the number of records to average\n",
        "        weights += learnrate * del_w / n_records\n",
        "\n",
        "        # Printing out the mean square error on the training set\n",
        "        if e % (epochs / 10) == 0:\n",
        "            out = sigmoid(np.dot(features, weights))\n",
        "            loss = np.mean((out - targets) ** 2)\n",
        "            print(\"Epoch:\", e)\n",
        "            if last_loss and last_loss < loss:\n",
        "                print(\"Train loss: \", loss, \"  WARNING - Loss Increasing\")\n",
        "            else:\n",
        "                print(\"Train loss: \", loss)\n",
        "            last_loss = loss\n",
        "            print(\"=========\")\n",
        "    print(\"Finished training!\")\n",
        "    return weights\n",
        "    \n",
        "weights = train_nn(features, targets, epochs, learnrate)"
      ]
    },
    {
      "cell_type": "markdown",
      "metadata": {
        "id": "QRR3llbJNYE6"
      },
      "source": [
        "# Calculate the Accuracy on the Testing Data"
      ]
    },
    {
      "cell_type": "code",
      "execution_count": null,
      "metadata": {
        "id": "RXeuZRAXNVsB",
        "colab": {
          "base_uri": "https://localhost:8080/"
        },
        "outputId": "fc3479e2-117b-44fd-ac44-6279d0c7e7bb"
      },
      "outputs": [
        {
          "output_type": "stream",
          "name": "stdout",
          "text": [
            "Prediction accuracy: 0.248\n"
          ]
        }
      ],
      "source": [
        "tes_out = sigmoid(np.dot(features_test, weights))\n",
        "predictions = tes_out > 0.5\n",
        "accuracy = np.mean(predictions == targets_test)\n",
        "print(\"Prediction accuracy: {:.3f}\".format(accuracy))"
      ]
    },
    {
      "cell_type": "markdown",
      "metadata": {
        "id": "lqnpHa4PcFfZ"
      },
      "source": [
        "# Decision Tree"
      ]
    },
    {
      "cell_type": "code",
      "execution_count": null,
      "metadata": {
        "id": "rKUN5P8Jcz3J",
        "colab": {
          "base_uri": "https://localhost:8080/"
        },
        "outputId": "0070dd5e-6b99-46c3-b765-0a18a45238fa"
      },
      "outputs": [
        {
          "output_type": "execute_result",
          "data": {
            "text/plain": [
              "DecisionTreeClassifier()"
            ]
          },
          "metadata": {},
          "execution_count": 23
        }
      ],
      "source": [
        "from sklearn.tree import DecisionTreeClassifier\n",
        "\n",
        "model = DecisionTreeClassifier()\n",
        "model.fit(X_train, y_train)"
      ]
    },
    {
      "cell_type": "code",
      "execution_count": null,
      "metadata": {
        "id": "4jB8fFajc2zc",
        "colab": {
          "base_uri": "https://localhost:8080/"
        },
        "outputId": "a3b79ba6-5217-4e81-8b29-66c14f624cdc"
      },
      "outputs": [
        {
          "output_type": "stream",
          "name": "stdout",
          "text": [
            "The prediction accuracy on the training data is 0.99953125\n",
            "The prediction accuracy on the testing data is 0.7276666666666667\n"
          ]
        }
      ],
      "source": [
        "y_train_pred = model.predict(X_train)\n",
        "y_test_pred = model.predict(X_test)\n",
        "\n",
        "from sklearn.metrics import accuracy_score\n",
        "train_accuracy = accuracy_score(y_train, y_train_pred)\n",
        "test_accuracy = accuracy_score(y_test, y_test_pred)\n",
        "print('The prediction accuracy on the training data is', train_accuracy)\n",
        "print('The prediction accuracy on the testing data is', test_accuracy)"
      ]
    },
    {
      "cell_type": "code",
      "execution_count": null,
      "metadata": {
        "id": "UNYtxIebc8Mk",
        "colab": {
          "base_uri": "https://localhost:8080/"
        },
        "outputId": "9f001718-529b-4ab9-f54c-7e4854fb1fee"
      },
      "outputs": [
        {
          "output_type": "stream",
          "name": "stdout",
          "text": [
            "The training accuracy is 0.82875\n",
            "The test accuracy is 0.819\n"
          ]
        }
      ],
      "source": [
        "model = DecisionTreeClassifier(max_depth=6, min_samples_leaf=6, min_samples_split=10)\n",
        "model.fit(X_train, y_train)\n",
        "\n",
        "y_train_pred = model.predict(X_train)\n",
        "y_test_pred = model.predict(X_test)\n",
        "\n",
        "train_accuracy = accuracy_score(y_train, y_train_pred)\n",
        "test_accuracy = accuracy_score(y_test, y_test_pred)\n",
        "\n",
        "print('The training accuracy is', train_accuracy)\n",
        "print('The test accuracy is', test_accuracy)"
      ]
    },
    {
      "cell_type": "markdown",
      "metadata": {
        "id": "6Zqr4rAPfsmO"
      },
      "source": [
        "# LinearRegression()\n"
      ]
    },
    {
      "cell_type": "code",
      "execution_count": null,
      "metadata": {
        "id": "577wbolyesPx",
        "colab": {
          "base_uri": "https://localhost:8080/"
        },
        "outputId": "7dabc879-3e0c-45ae-8ad0-87e562de624f"
      },
      "outputs": [
        {
          "output_type": "stream",
          "name": "stdout",
          "text": [
            "The training accuracy is 0.7784895833333333\n",
            "The test accuracy is 0.781\n"
          ]
        }
      ],
      "source": [
        "from sklearn.linear_model import LogisticRegression\n",
        "from sklearn.metrics import accuracy_score\n",
        "\n",
        "logistic = LogisticRegression(random_state = 42)\n",
        "logistic.fit(X_train,y_train)\n",
        "\n",
        "y_train_logistic_pred = logistic.predict(X_train)\n",
        "y_test_logistic_pred = logistic.predict(X_test)\n",
        "\n",
        "train_logistic_accuracy = accuracy_score(y_train, y_train_logistic_pred)\n",
        "test_logistic_accuracy = accuracy_score(y_test, y_test_logistic_pred)\n",
        "\n",
        "print('The training accuracy is', train_logistic_accuracy)\n",
        "print('The test accuracy is', test_logistic_accuracy)\n",
        "\n"
      ]
    },
    {
      "cell_type": "markdown",
      "metadata": {
        "id": "5Pa8qh_DrqyZ"
      },
      "source": [
        "# k nearest neighbour"
      ]
    },
    {
      "cell_type": "code",
      "execution_count": null,
      "metadata": {
        "id": "8d5wxDSprr9p",
        "colab": {
          "base_uri": "https://localhost:8080/"
        },
        "outputId": "ce05fdf7-e0a2-4991-cbb2-8c7d4c547447"
      },
      "outputs": [
        {
          "output_type": "stream",
          "name": "stdout",
          "text": [
            "The training accuracy is 0.8165104166666667\n",
            "The test accuracy is 0.7553333333333333\n"
          ]
        }
      ],
      "source": [
        "from sklearn.neighbors import KNeighborsClassifier\n",
        "\n",
        "k_neighbors = KNeighborsClassifier()\n",
        "k_neighbors.fit(X_train,y_train)\n",
        "\n",
        "y_train_k_pred = k_neighbors.predict(X_train)\n",
        "y_test_k_pred = k_neighbors.predict(X_test)\n",
        "\n",
        "train_k_accuracy = accuracy_score(y_train, y_train_k_pred)\n",
        "test_k_accuracy = accuracy_score(y_test, y_test_k_pred)\n",
        "\n",
        "print('The training accuracy is', train_k_accuracy)\n",
        "print('The test accuracy is', test_k_accuracy)"
      ]
    },
    {
      "cell_type": "markdown",
      "metadata": {
        "id": "_p8t3r7Jt4fA"
      },
      "source": [
        "# Random forest classifier\n",
        "# Random forest give the highest accuracy"
      ]
    },
    {
      "cell_type": "code",
      "execution_count": null,
      "metadata": {
        "id": "J-QjHypFt5gm",
        "colab": {
          "base_uri": "https://localhost:8080/"
        },
        "outputId": "a69788f7-3d0c-4d3d-ea89-2ce4a659a669"
      },
      "outputs": [
        {
          "output_type": "stream",
          "name": "stdout",
          "text": [
            "The training accuracy is 0.9994791666666667\n",
            "The test accuracy is 0.8128333333333333\n"
          ]
        }
      ],
      "source": [
        "from sklearn.ensemble import RandomForestClassifier\n",
        "\n",
        "random_forest = RandomForestClassifier(random_state = 42)\n",
        "random_forest.fit(X_train, y_train)\n",
        "\n",
        "ye_train = random_forest.predict(X_train)\n",
        "ye_test = random_forest.predict(X_test)\n",
        "\n",
        "train_ye_accuracy = accuracy_score(y_train, ye_train)\n",
        "test_ye_accuracy = accuracy_score(y_test, ye_test)\n",
        "\n",
        "print('The training accuracy is', train_ye_accuracy)\n",
        "print('The test accuracy is', test_ye_accuracy)"
      ]
    },
    {
      "cell_type": "markdown",
      "metadata": {
        "id": "Oo6qp7tEu7qf"
      },
      "source": [
        "# plot the one decision tree"
      ]
    },
    {
      "cell_type": "code",
      "execution_count": null,
      "metadata": {
        "id": "_wq6WNtMu6gS",
        "colab": {
          "base_uri": "https://localhost:8080/",
          "height": 437
        },
        "outputId": "7f326c41-236b-45d1-9e5b-9415d8dc158a"
      },
      "outputs": [
        {
          "output_type": "display_data",
          "data": {
            "text/plain": [
              "<Figure size 5760x1440 with 1 Axes>"
            ],
            "image/png": "[encoded data removed]"
          },
          "metadata": {}
        }
      ],
      "source": [
        "from sklearn.tree import plot_tree, export_text\n",
        "plt.figure(figsize=(80,20))\n",
        "\n",
        "random_forest.estimators_[4] \n",
        "\n",
        "plot_tree(random_forest.estimators_[0], feature_names = X_train.columns, max_depth = 3, filled = True);"
      ]
    },
    {
      "cell_type": "code",
      "execution_count": null,
      "metadata": {
        "id": "0MhbG_ccvUZZ",
        "colab": {
          "base_uri": "https://localhost:8080/",
          "height": 372
        },
        "outputId": "f76cdad1-2bc2-49e6-9ca4-33fd53e066c1"
      },
      "outputs": [
        {
          "output_type": "execute_result",
          "data": {
            "text/plain": [
              "Text(0.5, 1.0, 'Feature Importance')"
            ]
          },
          "metadata": {},
          "execution_count": 30
        },
        {
          "output_type": "display_data",
          "data": {
            "text/plain": [
              "<Figure size 720x360 with 1 Axes>"
            ],
            "image/png": "[encoded data removed]"
          },
          "metadata": {}
        }
      ],
      "source": [
        "importance_df = pd.DataFrame({'feature':X_train.columns,'Importance': random_forest.feature_importances_}).sort_values('Importance', ascending = False)\n",
        "\n",
        "plt.figure(figsize=(10,5))\n",
        "\n",
        "sns.barplot(data = importance_df.head(10), x = 'Importance', y = 'feature');\n",
        "plt.title('Feature Importance')"
      ]
    },
    {
      "cell_type": "markdown",
      "source": [
        "# Testing n_estimators"
      ],
      "metadata": {
        "id": "hiLuytCyvOid"
      }
    },
    {
      "cell_type": "code",
      "source": [
        "model1 = RandomForestClassifier(random_state = 42, n_jobs = 1, n_estimators = 100)\n",
        "model1.fit(X_train, y_train)\n",
        "model1.score(X_train, y_train), model1.score(X_val, y_val)"
      ],
      "metadata": {
        "id": "4WzCAn0dvBrY",
        "colab": {
          "base_uri": "https://localhost:8080/"
        },
        "outputId": "0237e15e-221c-49ca-ef2c-504f47999977"
      },
      "execution_count": null,
      "outputs": [
        {
          "output_type": "execute_result",
          "data": {
            "text/plain": [
              "(0.9994791666666667, 0.8116666666666666)"
            ]
          },
          "metadata": {},
          "execution_count": 31
        }
      ]
    },
    {
      "cell_type": "code",
      "source": [
        "model1 = RandomForestClassifier(random_state = 42, n_jobs = 1, n_estimators = 300)\n",
        "model1.fit(X_train, y_train)\n",
        "model1.score(X_train, y_train), model1.score(X_val, y_val)"
      ],
      "metadata": {
        "id": "Zs1KeejJvTPp",
        "colab": {
          "base_uri": "https://localhost:8080/"
        },
        "outputId": "32561490-7426-4e11-84e8-78bb0d22c2f9"
      },
      "execution_count": null,
      "outputs": [
        {
          "output_type": "execute_result",
          "data": {
            "text/plain": [
              "(0.99953125, 0.8127083333333334)"
            ]
          },
          "metadata": {},
          "execution_count": 32
        }
      ]
    },
    {
      "cell_type": "code",
      "source": [
        "model1 = RandomForestClassifier(random_state = 42, n_jobs = 1, n_estimators = 500)\n",
        "model1.fit(X_train, y_train)\n",
        "model1.score(X_train, y_train), model1.score(X_val, y_val)"
      ],
      "metadata": {
        "id": "mt5Y3eO7vWsl",
        "colab": {
          "base_uri": "https://localhost:8080/"
        },
        "outputId": "22d64668-7156-406f-8539-b7f2e0cc2f5f"
      },
      "execution_count": null,
      "outputs": [
        {
          "output_type": "execute_result",
          "data": {
            "text/plain": [
              "(0.99953125, 0.8125)"
            ]
          },
          "metadata": {},
          "execution_count": 33
        }
      ]
    },
    {
      "cell_type": "markdown",
      "source": [
        "# Testing max depth"
      ],
      "metadata": {
        "id": "uRlN9kJEvaRL"
      }
    },
    {
      "cell_type": "code",
      "source": [
        "def test_params(**params):\n",
        "    model2 = RandomForestClassifier(random_state = 42, n_jobs = 1, **params).fit(X_train, y_train)\n",
        "    return model2.score(X_train, y_train), model2.score(X_val, y_val)"
      ],
      "metadata": {
        "id": "Av4vJAeTvckC"
      },
      "execution_count": null,
      "outputs": []
    },
    {
      "cell_type": "code",
      "source": [
        "test_params(max_depth = 10)"
      ],
      "metadata": {
        "id": "iXpDf6iJvfkY",
        "colab": {
          "base_uri": "https://localhost:8080/"
        },
        "outputId": "fcb03351-13a7-4100-d986-67595d8bf2b7"
      },
      "execution_count": null,
      "outputs": [
        {
          "output_type": "execute_result",
          "data": {
            "text/plain": [
              "(0.86265625, 0.8141666666666667)"
            ]
          },
          "metadata": {},
          "execution_count": 35
        }
      ]
    },
    {
      "cell_type": "code",
      "source": [
        "test_params(max_depth = 20)"
      ],
      "metadata": {
        "id": "X8eJzq7Cvhi8",
        "colab": {
          "base_uri": "https://localhost:8080/"
        },
        "outputId": "ebe5e242-2713-4090-91ef-e37567756288"
      },
      "execution_count": null,
      "outputs": [
        {
          "output_type": "execute_result",
          "data": {
            "text/plain": [
              "(0.9530208333333333, 0.8139583333333333)"
            ]
          },
          "metadata": {},
          "execution_count": 36
        }
      ]
    },
    {
      "cell_type": "code",
      "source": [
        "test_params(max_depth = 30)"
      ],
      "metadata": {
        "id": "A3RzCJS0vijC",
        "colab": {
          "base_uri": "https://localhost:8080/"
        },
        "outputId": "f464c898-d654-4e5e-8fd2-0741facec161"
      },
      "execution_count": null,
      "outputs": [
        {
          "output_type": "execute_result",
          "data": {
            "text/plain": [
              "(0.9984375, 0.8129166666666666)"
            ]
          },
          "metadata": {},
          "execution_count": 37
        }
      ]
    },
    {
      "cell_type": "markdown",
      "source": [
        "# Testing max_leaf_nodes"
      ],
      "metadata": {
        "id": "Eo5YC9CfvrFZ"
      }
    },
    {
      "cell_type": "code",
      "source": [
        "test_params(max_leaf_nodes = 2**5)"
      ],
      "metadata": {
        "id": "Yag1NTCWvszM",
        "colab": {
          "base_uri": "https://localhost:8080/"
        },
        "outputId": "7c12ebaf-8382-4b0e-98e0-0d845909aaad"
      },
      "execution_count": null,
      "outputs": [
        {
          "output_type": "execute_result",
          "data": {
            "text/plain": [
              "(0.8255729166666667, 0.814375)"
            ]
          },
          "metadata": {},
          "execution_count": 38
        }
      ]
    },
    {
      "cell_type": "code",
      "source": [
        "test_params(max_leaf_nodes = 2**10)"
      ],
      "metadata": {
        "id": "18Kwgh5ZvyWH",
        "colab": {
          "base_uri": "https://localhost:8080/"
        },
        "outputId": "638c0b3c-3dee-4823-e15d-9d9a774d4788"
      },
      "execution_count": null,
      "outputs": [
        {
          "output_type": "execute_result",
          "data": {
            "text/plain": [
              "(0.9068229166666667, 0.813125)"
            ]
          },
          "metadata": {},
          "execution_count": 39
        }
      ]
    },
    {
      "cell_type": "code",
      "source": [
        "test_params(max_leaf_nodes = 2**15)"
      ],
      "metadata": {
        "id": "EzRWZjiOv8_U",
        "colab": {
          "base_uri": "https://localhost:8080/"
        },
        "outputId": "28dcde90-bfc7-4fcd-c5c8-efc0145dc868"
      },
      "execution_count": null,
      "outputs": [
        {
          "output_type": "execute_result",
          "data": {
            "text/plain": [
              "(0.99953125, 0.811875)"
            ]
          },
          "metadata": {},
          "execution_count": 40
        }
      ]
    },
    {
      "cell_type": "markdown",
      "source": [
        "# Testing max_features"
      ],
      "metadata": {
        "id": "1460YIlMwAKR"
      }
    },
    {
      "cell_type": "code",
      "source": [
        "test_params(max_features = 'log2')"
      ],
      "metadata": {
        "id": "7AW8gb3wwBuo",
        "colab": {
          "base_uri": "https://localhost:8080/"
        },
        "outputId": "8f79ef10-a994-4dd6-c0d1-287a91ff0a1b"
      },
      "execution_count": null,
      "outputs": [
        {
          "output_type": "execute_result",
          "data": {
            "text/plain": [
              "(0.9994791666666667, 0.8116666666666666)"
            ]
          },
          "metadata": {},
          "execution_count": 41
        }
      ]
    },
    {
      "cell_type": "code",
      "source": [
        "test_params(max_features = 5)"
      ],
      "metadata": {
        "id": "j3U37mOewEyC",
        "colab": {
          "base_uri": "https://localhost:8080/"
        },
        "outputId": "18d2a662-dfcd-404a-ac52-b41e58397216"
      },
      "execution_count": null,
      "outputs": [
        {
          "output_type": "execute_result",
          "data": {
            "text/plain": [
              "(0.9994791666666667, 0.8116666666666666)"
            ]
          },
          "metadata": {},
          "execution_count": 42
        }
      ]
    },
    {
      "cell_type": "code",
      "source": [
        "test_params(max_features = 15)"
      ],
      "metadata": {
        "id": "FqEuZNAGwMoz",
        "colab": {
          "base_uri": "https://localhost:8080/"
        },
        "outputId": "7fc620b3-a8f0-4517-f45f-9b5047e9263f"
      },
      "execution_count": null,
      "outputs": [
        {
          "output_type": "execute_result",
          "data": {
            "text/plain": [
              "(0.9994791666666667, 0.81125)"
            ]
          },
          "metadata": {},
          "execution_count": 43
        }
      ]
    },
    {
      "cell_type": "markdown",
      "source": [
        "# Testing min_samples_split and min_samples_leaf"
      ],
      "metadata": {
        "id": "6LpTeyBrwOkR"
      }
    },
    {
      "cell_type": "code",
      "source": [
        "test_params(min_samples_split=100, min_samples_leaf=50)"
      ],
      "metadata": {
        "id": "ItKkUNu83taJ",
        "colab": {
          "base_uri": "https://localhost:8080/"
        },
        "outputId": "2e2f815c-fea3-4225-e015-988471ab32ea"
      },
      "execution_count": null,
      "outputs": [
        {
          "output_type": "execute_result",
          "data": {
            "text/plain": [
              "(0.82609375, 0.8145833333333333)"
            ]
          },
          "metadata": {},
          "execution_count": 44
        }
      ]
    },
    {
      "cell_type": "code",
      "source": [
        "test_params(min_samples_split=150, min_samples_leaf=50)"
      ],
      "metadata": {
        "id": "oN9BVVlS3vVj",
        "colab": {
          "base_uri": "https://localhost:8080/"
        },
        "outputId": "e514453d-8d07-4a70-c125-16c2ffc2d387"
      },
      "execution_count": null,
      "outputs": [
        {
          "output_type": "execute_result",
          "data": {
            "text/plain": [
              "(0.8247395833333333, 0.815)"
            ]
          },
          "metadata": {},
          "execution_count": 45
        }
      ]
    },
    {
      "cell_type": "code",
      "source": [
        "test_params(min_samples_split=100, min_samples_leaf=60)"
      ],
      "metadata": {
        "id": "hJJeuWb93ns9",
        "colab": {
          "base_uri": "https://localhost:8080/"
        },
        "outputId": "2fbab684-cfb1-4099-eb9a-69900136b690"
      },
      "execution_count": null,
      "outputs": [
        {
          "output_type": "execute_result",
          "data": {
            "text/plain": [
              "(0.8252604166666667, 0.8147916666666667)"
            ]
          },
          "metadata": {},
          "execution_count": 46
        }
      ]
    },
    {
      "cell_type": "code",
      "source": [
        "test_params(min_samples_split=150, min_samples_leaf=60)"
      ],
      "metadata": {
        "id": "e3esZ4ks3oLR",
        "colab": {
          "base_uri": "https://localhost:8080/"
        },
        "outputId": "164682e0-181c-4d87-8dac-825af29af67a"
      },
      "execution_count": null,
      "outputs": [
        {
          "output_type": "execute_result",
          "data": {
            "text/plain": [
              "(0.82484375, 0.8147916666666667)"
            ]
          },
          "metadata": {},
          "execution_count": 47
        }
      ]
    },
    {
      "cell_type": "markdown",
      "source": [
        "# Final Model"
      ],
      "metadata": {
        "id": "gkJHXWkB35SN"
      }
    },
    {
      "cell_type": "code",
      "source": [
        "final_model = RandomForestClassifier(random_state = 42, n_jobs = 1, n_estimators = 300,\n",
        "                     min_samples_split = 100, min_samples_leaf=60, max_features = 'log2',\n",
        "                    max_leaf_nodes = 2**10,max_depth = 20  )\n",
        "final_model.fit(X_train, y_train)\n",
        "final_model.score(X_train, y_train), final_model.score(X_val, y_val)"
      ],
      "metadata": {
        "id": "m8Ey9yIj33kA",
        "colab": {
          "base_uri": "https://localhost:8080/"
        },
        "outputId": "20543339-a351-4b1f-8dcb-4f0ffef52c80"
      },
      "execution_count": null,
      "outputs": [
        {
          "output_type": "execute_result",
          "data": {
            "text/plain": [
              "(0.825, 0.814375)"
            ]
          },
          "metadata": {},
          "execution_count": 48
        }
      ]
    },
    {
      "cell_type": "markdown",
      "source": [
        "# Result"
      ],
      "metadata": {
        "id": "FuI7Fkb84CBe"
      }
    },
    {
      "cell_type": "code",
      "source": [
        "result = RandomForestClassifier(random_state = 42, n_jobs = 1, n_estimators = 300,\n",
        "                     min_samples_split = 100, min_samples_leaf=60, max_features = 'log2',\n",
        "                    max_leaf_nodes = 2**10,max_depth = 20  )\n",
        "result.fit(X_train, y_train)\n",
        "result.score(X_train, y_train), result.score(X_test, y_test)"
      ],
      "metadata": {
        "id": "dcDK7ohI3-qr",
        "colab": {
          "base_uri": "https://localhost:8080/"
        },
        "outputId": "eda62128-fefa-47d2-e51f-df0b26df1210"
      },
      "execution_count": null,
      "outputs": [
        {
          "output_type": "error",
          "ename": "NameError",
          "evalue": "ignored",
          "traceback": [
            "\u001b[0;31m---------------------------------------------------------------------------\u001b[0m",
            "\u001b[0;31mNameError\u001b[0m                                 Traceback (most recent call last)",
            "\u001b[0;32m<ipython-input-3-606ad16b4280>\u001b[0m in \u001b[0;36m<module>\u001b[0;34m()\u001b[0m\n\u001b[0;32m----> 1\u001b[0;31m result = RandomForestClassifier(random_state = 42, n_jobs = 1, n_estimators = 300,\n\u001b[0m\u001b[1;32m      2\u001b[0m                      \u001b[0mmin_samples_split\u001b[0m \u001b[0;34m=\u001b[0m \u001b[0;36m100\u001b[0m\u001b[0;34m,\u001b[0m \u001b[0mmin_samples_leaf\u001b[0m\u001b[0;34m=\u001b[0m\u001b[0;36m60\u001b[0m\u001b[0;34m,\u001b[0m \u001b[0mmax_features\u001b[0m \u001b[0;34m=\u001b[0m \u001b[0;34m'log2'\u001b[0m\u001b[0;34m,\u001b[0m\u001b[0;34m\u001b[0m\u001b[0;34m\u001b[0m\u001b[0m\n\u001b[1;32m      3\u001b[0m                     max_leaf_nodes = 2**10,max_depth = 20  )\n\u001b[1;32m      4\u001b[0m \u001b[0mresult\u001b[0m\u001b[0;34m.\u001b[0m\u001b[0mfit\u001b[0m\u001b[0;34m(\u001b[0m\u001b[0mX_train\u001b[0m\u001b[0;34m,\u001b[0m \u001b[0my_train\u001b[0m\u001b[0;34m)\u001b[0m\u001b[0;34m\u001b[0m\u001b[0;34m\u001b[0m\u001b[0m\n\u001b[1;32m      5\u001b[0m \u001b[0mresult\u001b[0m\u001b[0;34m.\u001b[0m\u001b[0mscore\u001b[0m\u001b[0;34m(\u001b[0m\u001b[0mX_train\u001b[0m\u001b[0;34m,\u001b[0m \u001b[0my_train\u001b[0m\u001b[0;34m)\u001b[0m\u001b[0;34m,\u001b[0m \u001b[0mresult\u001b[0m\u001b[0;34m.\u001b[0m\u001b[0mscore\u001b[0m\u001b[0;34m(\u001b[0m\u001b[0mX_test\u001b[0m\u001b[0;34m,\u001b[0m \u001b[0my_test\u001b[0m\u001b[0;34m)\u001b[0m\u001b[0;34m\u001b[0m\u001b[0;34m\u001b[0m\u001b[0m\n",
            "\u001b[0;31mNameError\u001b[0m: name 'RandomForestClassifier' is not defined"
          ]
        }
      ]
    },
    {
      "cell_type": "code",
      "source": [
        "result_1 = RandomForestClassifier(random_state = 42, n_jobs = 1, n_estimators = 300,\n",
        "                     min_samples_split = 100, min_samples_leaf=60, max_features = 'log2',\n",
        "                    max_leaf_nodes = 2**10,max_depth = 20  )\n",
        "result_1.fit(X_train, y_train)\n",
        "yee = result_1.predict(X_train)\n",
        "y_prede = result_1.predict(X_test)\n",
        "accuracy_score(yee, y_train), accuracy_score(y_prede, y_test)"
      ],
      "metadata": {
        "id": "3tzaVz2U4Aau",
        "colab": {
          "base_uri": "https://localhost:8080/"
        },
        "outputId": "ebf6353e-a42b-4acc-8395-5f0a7f8de497"
      },
      "execution_count": null,
      "outputs": [
        {
          "output_type": "error",
          "ename": "NameError",
          "evalue": "ignored",
          "traceback": [
            "\u001b[0;31m---------------------------------------------------------------------------\u001b[0m",
            "\u001b[0;31mNameError\u001b[0m                                 Traceback (most recent call last)",
            "\u001b[0;32m<ipython-input-2-f8c139f8873c>\u001b[0m in \u001b[0;36m<module>\u001b[0;34m()\u001b[0m\n\u001b[0;32m----> 1\u001b[0;31m result_1 = RandomForestClassifier(random_state = 42, n_jobs = 1, n_estimators = 300,\n\u001b[0m\u001b[1;32m      2\u001b[0m                      \u001b[0mmin_samples_split\u001b[0m \u001b[0;34m=\u001b[0m \u001b[0;36m100\u001b[0m\u001b[0;34m,\u001b[0m \u001b[0mmin_samples_leaf\u001b[0m\u001b[0;34m=\u001b[0m\u001b[0;36m60\u001b[0m\u001b[0;34m,\u001b[0m \u001b[0mmax_features\u001b[0m \u001b[0;34m=\u001b[0m \u001b[0;34m'log2'\u001b[0m\u001b[0;34m,\u001b[0m\u001b[0;34m\u001b[0m\u001b[0;34m\u001b[0m\u001b[0m\n\u001b[1;32m      3\u001b[0m                     max_leaf_nodes = 2**10,max_depth = 20  )\n\u001b[1;32m      4\u001b[0m \u001b[0mresult_1\u001b[0m\u001b[0;34m.\u001b[0m\u001b[0mfit\u001b[0m\u001b[0;34m(\u001b[0m\u001b[0mX_train\u001b[0m\u001b[0;34m,\u001b[0m \u001b[0my_train\u001b[0m\u001b[0;34m)\u001b[0m\u001b[0;34m\u001b[0m\u001b[0;34m\u001b[0m\u001b[0m\n\u001b[1;32m      5\u001b[0m \u001b[0myee\u001b[0m \u001b[0;34m=\u001b[0m \u001b[0mresult_1\u001b[0m\u001b[0;34m.\u001b[0m\u001b[0mpredict\u001b[0m\u001b[0;34m(\u001b[0m\u001b[0mX_train\u001b[0m\u001b[0;34m)\u001b[0m\u001b[0;34m\u001b[0m\u001b[0;34m\u001b[0m\u001b[0m\n",
            "\u001b[0;31mNameError\u001b[0m: name 'RandomForestClassifier' is not defined"
          ]
        }
      ]
    },
    {
      "cell_type": "code",
      "source": [
        "``"
      ],
      "metadata": {
        "id": "0xO-FpdgPzZT"
      },
      "execution_count": null,
      "outputs": []
    }
  ],
  "metadata": {
    "colab": {
      "provenance": [],
      "collapsed_sections": [
        "_7V9o5sPyr9-",
        "PK1HBUQ7ywUz",
        "pYD1bcDHz88Z",
        "MYbYBNWr215e",
        "pODEjKvV25r-",
        "dTFyo2FT29Jh",
        "hqKt7iaF9xHN",
        "oQQsBeqoNb7M",
        "ZDAI4uqYJx6z",
        "ey8jZBRTLaA5",
        "QRR3llbJNYE6",
        "lqnpHa4PcFfZ",
        "6Zqr4rAPfsmO",
        "5Pa8qh_DrqyZ",
        "_p8t3r7Jt4fA",
        "Oo6qp7tEu7qf",
        "hiLuytCyvOid",
        "uRlN9kJEvaRL",
        "Eo5YC9CfvrFZ",
        "1460YIlMwAKR",
        "6LpTeyBrwOkR",
        "gkJHXWkB35SN",
        "FuI7Fkb84CBe"
      ]
    },
    "kernelspec": {
      "display_name": "Python 3",
      "name": "python3"
    },
    "language_info": {
      "name": "python"
    },
    "accelerator": "GPU"
  },
  "nbformat": 4,
  "nbformat_minor": 0
}